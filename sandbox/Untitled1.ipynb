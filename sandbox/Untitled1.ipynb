{
 "cells": [
  {
   "cell_type": "code",
   "execution_count": 1,
   "metadata": {},
   "outputs": [],
   "source": [
    "import numpy as np\n",
    "import pandas as pd\n",
    "import matplotlib.pyplot as plt\n",
    "\n",
    "#sklearn libraries\n",
    "from sklearn import preprocessing\n",
    "from sklearn.linear_model import LinearRegression\n",
    "from sklearn.model_selection import train_test_split\n",
    "from sklearn.model_selection import cross_val_predict\n",
    "\n",
    "from catboost import Pool, CatBoostRegressor # pip install catboost\n",
    "\n",
    "import json\n",
    "import math\n",
    "from tqdm import tqdm"
   ]
  },
  {
   "cell_type": "code",
   "execution_count": 2,
   "metadata": {},
   "outputs": [],
   "source": [
    "def distance(lon1,lat1,lon2,lat2):\n",
    "    lon1,lat1=coord1\n",
    "    lon2,lat2=coord2\n",
    "\n",
    "    R=6371000                               # radius of Earth in meters\n",
    "    phi_1=math.radians(lat1)\n",
    "    phi_2=math.radians(lat2)\n",
    "\n",
    "    delta_phi=math.radians(lat2-lat1)\n",
    "    delta_lambda=math.radians(lon2-lon1)\n",
    "\n",
    "    a=math.sin(delta_phi/2.0)**2+\\\n",
    "       math.cos(phi_1)*math.cos(phi_2)*\\\n",
    "       math.sin(delta_lambda/2.0)**2\n",
    "    c=2*math.atan2(math.sqrt(a),math.sqrt(1-a))\n",
    "\n",
    "    meters=R*c                         # output distance in meters\n",
    "    km=self.meters/1000.0              # output distance in kilometers\n",
    "    miles=self.meters*0.000621371      # output distance in miles\n",
    "    feet=self.miles*5280               # output distance in feet\n",
    "    \n",
    "    return miles"
   ]
  },
  {
   "cell_type": "code",
   "execution_count": null,
   "metadata": {},
   "outputs": [],
   "source": []
  }
 ],
 "metadata": {
  "kernelspec": {
   "display_name": "Python [conda root]",
   "language": "python",
   "name": "conda-root-py"
  },
  "language_info": {
   "codemirror_mode": {
    "name": "ipython",
    "version": 3
   },
   "file_extension": ".py",
   "mimetype": "text/x-python",
   "name": "python",
   "nbconvert_exporter": "python",
   "pygments_lexer": "ipython3",
   "version": "3.5.4"
  }
 },
 "nbformat": 4,
 "nbformat_minor": 2
}
