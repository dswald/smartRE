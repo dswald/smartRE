{
 "cells": [
  {
   "cell_type": "code",
   "execution_count": 1,
   "metadata": {},
   "outputs": [
    {
     "name": "stdout",
     "output_type": "stream",
     "text": [
      "\n",
      "The following command must be run outside of the IPython shell:\n",
      "\n",
      "    $ pip install --upgrade google-api-python-client\n",
      "\n",
      "The Python package manager (pip) can only be used from outside of IPython.\n",
      "Please reissue the `pip` command in a separate terminal or command prompt.\n",
      "\n",
      "See the Python documentation for more information on how to install packages:\n",
      "\n",
      "    https://docs.python.org/3/installing/\n"
     ]
    }
   ],
   "source": [
    "# Prior to running this code, will need to run this setup in the command line\n",
    "#pip install --upgrade google-api-python-client\n",
    "#pip install --upgrade oauth2client"
   ]
  },
  {
   "cell_type": "code",
   "execution_count": 1,
   "metadata": {},
   "outputs": [],
   "source": [
    "from __future__ import print_function\n",
    "from apiclient.discovery import build\n",
    "from httplib2 import Http\n",
    "from oauth2client import file, client, tools"
   ]
  },
  {
   "cell_type": "code",
   "execution_count": 2,
   "metadata": {},
   "outputs": [],
   "source": [
    "# Setup the Sheets API\n",
    "SCOPES = 'https://www.googleapis.com/auth/spreadsheets.readonly'\n",
    "store = file.Storage('credentials.json')\n",
    "creds = store.get()\n",
    "if not creds or creds.invalid:\n",
    "    flags = tools.argparser.parse_args('--auth_host_name localhost --logging_level INFO'.split())\n",
    "    flow = client.flow_from_clientsecrets('client_secret.json', SCOPES)\n",
    "    creds = tools.run_flow(flow, store, flags)\n",
    "service = build('sheets', 'v4', http=creds.authorize(Http()))"
   ]
  },
  {
   "cell_type": "code",
   "execution_count": 3,
   "metadata": {},
   "outputs": [],
   "source": [
    "# Call the Sheets API\n",
    "SPREADSHEET_ID = '1jG05kbXMDiw6N-Ic5xuAl1MdR6NS3VwDYxGAKMoQ_FI'\n",
    "RANGE_NAME = 'Form Responses 1!A1:R'\n",
    "result = service.spreadsheets().values().get(spreadsheetId=SPREADSHEET_ID,\n",
    "                                             range=RANGE_NAME).execute()"
   ]
  },
  {
   "cell_type": "code",
   "execution_count": 4,
   "metadata": {},
   "outputs": [
    {
     "name": "stdout",
     "output_type": "stream",
     "text": [
      "['Timestamp', 'What is your SmartRE user name?', 'High square footage (of the house)', 'High total land area', 'Low age of property', 'High public school scores', 'High percentage of households with kids', 'Mostly owner-occupied homes', 'Low crime rates', 'Special geographics (by the sea, or on a hilltop)', 'High Walkscore', 'High Transitscore', 'Near schools (low distance to closest school)', 'Near grocery stores (high number of choices within 1 mile)', 'Near parks (high number of choices within 1 mile)', 'House characteristics', 'Neighborhood characteristics', 'Location characteristics']\n",
      "['7/9/2018 18:48:26', 'root', '40', '40', '20', '50', '0', '10', '40', '0', '50', '20', '15', '10', '5', '50', '25', '25']\n"
     ]
    }
   ],
   "source": [
    "# Print values\n",
    "values = result.get('values', [])\n",
    "\n",
    "if not values:\n",
    "    print('No data found.')\n",
    "else:\n",
    "    for row in values:\n",
    "        print(row)"
   ]
  }
 ],
 "metadata": {
  "kernelspec": {
   "display_name": "Python 3",
   "language": "python",
   "name": "python3"
  },
  "language_info": {
   "codemirror_mode": {
    "name": "ipython",
    "version": 3
   },
   "file_extension": ".py",
   "mimetype": "text/x-python",
   "name": "python",
   "nbconvert_exporter": "python",
   "pygments_lexer": "ipython3",
   "version": "3.6.5"
  }
 },
 "nbformat": 4,
 "nbformat_minor": 2
}
