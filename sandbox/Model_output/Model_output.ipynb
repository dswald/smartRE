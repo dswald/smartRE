{
 "cells": [
  {
   "cell_type": "code",
   "execution_count": 21,
   "metadata": {},
   "outputs": [
    {
     "name": "stdout",
     "output_type": "stream",
     "text": [
      "Overwriting Model_output.py\n"
     ]
    }
   ],
   "source": [
    "%%writefile Model_output.py\n",
    "\n",
    "from __future__ import print_function\n",
    "from apiclient.discovery import build\n",
    "from httplib2 import Http\n",
    "from oauth2client import file, client, tools\n",
    "import requests\n",
    "from tqdm import tqdm\n",
    "import numpy as np\n",
    "import pandas as pd\n",
    "\n",
    "#sklearn libraries\n",
    "from sklearn.linear_model import LinearRegression\n",
    "from sklearn.preprocessing import PolynomialFeatures\n",
    "from sklearn.ensemble import RandomForestRegressor\n",
    "\n",
    "def get_user_scores():\n",
    "    \n",
    "    # Setup the Sheets API\n",
    "    SCOPES = 'https://www.googleapis.com/auth/spreadsheets.readonly'\n",
    "    store = file.Storage('credentials.json')\n",
    "    creds = store.get()\n",
    "    if not creds or creds.invalid:\n",
    "        flags = tools.argparser.parse_args('--auth_host_name localhost --logging_level INFO'.split())\n",
    "        flow = client.flow_from_clientsecrets('client_secret.json', SCOPES)\n",
    "        creds = tools.run_flow(flow, store, flags)\n",
    "    service = build('sheets', 'v4', http=creds.authorize(Http()))\n",
    "    \n",
    "    # Call the Sheets API\n",
    "    SPREADSHEET_ID = '1jG05kbXMDiw6N-Ic5xuAl1MdR6NS3VwDYxGAKMoQ_FI'\n",
    "    RANGE_NAME = 'Form Responses 1!A1:R'\n",
    "    result = service.spreadsheets().values().get(spreadsheetId=SPREADSHEET_ID,\n",
    "                                                 range=RANGE_NAME).execute()\n",
    "    \n",
    "    # Get values\n",
    "    values = result.get('values', [])\n",
    "    users_df = pd.DataFrame(values)\n",
    "    users_df.columns = ['Timestamp','username','SQFTmain', 'lot_area', 'EffectiveYearBuilt', \\\n",
    "                     'closest_school_rating', 'HH_Kids', 'Owner', 'crime', 'geography', \\\n",
    "                     'walkscore', 'transit_score',  'closest_schools', 'groceries', 'parks', \\\n",
    "                     'House', 'Neighborhood', 'Location']\n",
    "\n",
    "    # Get user input and standardize\n",
    "    user_input = users_df.iloc[-1,:].values\n",
    "    username = user_input[1]\n",
    "    user_numbers = list(map(int, user_input[2:]))\n",
    "    preferences = np.array(user_numbers[-3:])/sum(user_numbers[-3:])\n",
    "    user_scores = list(np.array(user_numbers[0:3])/sum(user_numbers[0:3]) * 100 * preferences[0]) + \\\n",
    "                        list(np.array(user_numbers[3:8])/sum(user_numbers[3:8]) * 100 * preferences[1]) + \\\n",
    "                        list(np.array(user_numbers[8:13])/sum(user_numbers[8:13]) * 100 * preferences[2])\n",
    "    \n",
    "    return (username, user_scores)\n",
    "\n",
    "def poly_personal(data, weight, row):\n",
    "    poly_coef = np.loadtxt('poly_coef.out', delimiter=',')\n",
    "    total = 0\n",
    "    feature_number = len(data.columns)\n",
    "    sq_indices = [feature_number + 1]\n",
    "    for i in range(feature_number, 1, -1):\n",
    "        sq_indices.append(sq_indices[-1] + i)\n",
    "    for i in range(feature_number):\n",
    "        total += poly_coef[i + 1] * data.iloc[row,i] * weight[i]\n",
    "        total += poly_coef[sq_indices[i]] * (data.iloc[row,i] ** 2) * (weight[i] ** 2)\n",
    "        for j in range(i+1, feature_number):\n",
    "            total += poly_coef[sq_indices[i] + j - i] * data.iloc[row,i] * data.iloc[row,j] * weight[i] * weight[j]\n",
    "    return total\n",
    "\n",
    "def personal_listings(price_wt, personal_scores):\n",
    "    personal_dict = {}\n",
    "    personal_wt = []\n",
    "    \n",
    "    df_transform = pd.read_csv('df_transform_July2016.csv')\n",
    "    df = pd.read_csv('df_integrated.csv', sep=';')\n",
    "    \n",
    "    df_features = ['zip_rank', 'SQFTmain', 'Units', 'Bedrooms', 'EffectiveYearBuilt', \\\n",
    "                    'house', 'condo', 'pud', 'pool', 'HH_Kids', 'Owner', 'lot_area', \\\n",
    "                    'num_school_choices', 'closest_school_rating', 'geography', 'parks', 'groceries', 'walkscore', 'transit_score']\n",
    "    personal_features = ['SQFTmain', 'lot_area', 'EffectiveYearBuilt', \\\n",
    "                     'closest_school_rating', 'HH_Kids', 'Owner', 'crime', 'geography', \\\n",
    "                     'walkscore', 'transit_score',  'closest_schools', 'groceries', 'parks']\n",
    "\n",
    "    for i in range(len(personal_scores)):\n",
    "        if personal_scores[i] != 0:\n",
    "            personal_dict[personal_features[i]] = personal_scores[i]\n",
    "        personal_dict[personal_features[i]] = personal_scores[i]     \n",
    "    for f in df_features:\n",
    "        if f in personal_dict.keys():\n",
    "            personal_wt.append(personal_dict[f] / 100)\n",
    "        else:\n",
    "            personal_wt.append(0)\n",
    "            \n",
    "    X = df_transform[df_features]\n",
    "    for i in tqdm(df.index):\n",
    "        df.loc[i, 'scores'] = price_wt * df_transform.loc[i, 'TotalValue'] + poly_personal(X, np.array(personal_wt), i)\n",
    "        \n",
    "    return df.sort_values(by=['scores'], ascending=False)\n",
    "\n",
    "def get_top10():\n",
    "    price_wt = 0.3 # to be tuned in model evaluation\n",
    "    username, user_scores = get_user_scores()\n",
    "    personal_df = personal_listings(price_wt, user_scores)\n",
    "    top10 = personal_df['Post_ID'].astype(str)[:10].values\n",
    "    return (username, top10)\n",
    "\n",
    "username, top10 = get_top10()\n",
    "# send PUT request\n",
    "url = 'http://amronline.net:9000/user/' + username + '?rank_01=' + top10[0] +'&rank_02=' + top10[1] +\\\n",
    "        '&rank_03=' + top10[2] + '&rank_04=' + top10[3] + '&rank_05=' + top10[4] +\\\n",
    "        '&rank_06=' + top10[5] + '&rank_07=' + top10[6] + '&rank_08=' + top10[7] +\\\n",
    "        '&rank_09=' + top10[8] + '&rank_10=' + top10[9]\n",
    "        \n",
    "r = requests.put(url)\n",
    "\n",
    "print (username, top10)"
   ]
  },
  {
   "cell_type": "code",
   "execution_count": 23,
   "metadata": {},
   "outputs": [
    {
     "name": "stdout",
     "output_type": "stream",
     "text": [
      "100%|██████████████████████████████████████| 6977/6977 [00:58<00:00, 118.70it/s]\n",
      "root ['38824' '38807' '38796' '38823' '38822' '38843' '38797' '38838' '38845'\n",
      " '38844']\n"
     ]
    }
   ],
   "source": [
    "!python Model_output.py"
   ]
  },
  {
   "cell_type": "code",
   "execution_count": null,
   "metadata": {
    "collapsed": true
   },
   "outputs": [],
   "source": []
  }
 ],
 "metadata": {
  "kernelspec": {
   "display_name": "Python 3",
   "language": "python",
   "name": "python3"
  },
  "language_info": {
   "codemirror_mode": {
    "name": "ipython",
    "version": 3
   },
   "file_extension": ".py",
   "mimetype": "text/x-python",
   "name": "python",
   "nbconvert_exporter": "python",
   "pygments_lexer": "ipython3",
   "version": "3.5.2"
  }
 },
 "nbformat": 4,
 "nbformat_minor": 2
}
