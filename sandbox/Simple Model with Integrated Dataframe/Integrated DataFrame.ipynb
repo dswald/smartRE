{
 "cells": [
  {
   "cell_type": "code",
   "execution_count": 1,
   "metadata": {
    "collapsed": true
   },
   "outputs": [],
   "source": [
    "import numpy as np\n",
    "import pandas as pd\n",
    "import matplotlib.pyplot as plt\n",
    "\n",
    "#sklearn libraries\n",
    "from sklearn import preprocessing\n",
    "from sklearn.linear_model import LinearRegression\n",
    "from sklearn.model_selection import train_test_split\n",
    "from sklearn.model_selection import cross_val_predict\n",
    "\n",
    "from catboost import Pool, CatBoostRegressor # pip install catboost\n",
    "\n",
    "import json\n",
    "from tqdm import tqdm"
   ]
  },
  {
   "cell_type": "markdown",
   "metadata": {},
   "source": [
    "### Reformat Core DataFrame"
   ]
  },
  {
   "cell_type": "code",
   "execution_count": 2,
   "metadata": {},
   "outputs": [
    {
     "name": "stderr",
     "output_type": "stream",
     "text": [
      "/Users/kx/anaconda/lib/python3.5/site-packages/IPython/core/interactiveshell.py:2698: DtypeWarning: Columns (37) have mixed types. Specify dtype option on import or set low_memory=False.\n",
      "  interactivity=interactivity, compiler=compiler, result=result)\n"
     ]
    }
   ],
   "source": [
    "csv = \"property_tax_records_2017.csv\"\n",
    "df = pd.read_csv(csv)\n",
    "df = df[df['GeneralUseType'] == 'Residential']\n",
    "columns_to_keep = ['CENTER_LAT', 'CENTER_LON', 'ZIPcode5', 'PropertyLocation', 'TotalValue', \\\n",
    "            'SQFTmain', 'Units', 'Bedrooms', 'Bathrooms', 'EffectiveYearBuilt', \\\n",
    "            'SpecificUseDetail1', 'SpecificUseDetail2', 'rowID', 'RecordingDate','TaxRateArea_CITY']\n",
    "df = df[columns_to_keep]\n",
    "# Drop the rows where at least one element is missing.\n",
    "df = df.dropna()"
   ]
  },
  {
   "cell_type": "code",
   "execution_count": 3,
   "metadata": {
    "collapsed": true
   },
   "outputs": [],
   "source": [
    "# reformat dataframe\n",
    "df['house_type'] = np.where(df['SpecificUseDetail1']=='Townhouse Format', 'townhouse', 'house')\n",
    "df.loc[df.SpecificUseDetail2 == 'Condominium', 'house_type'] = 'condo'\n",
    "df.loc[df.SpecificUseDetail2 == 'Planned Unit Development (PUD)', 'house_type'] = 'pud'\n",
    "df['pool'] = np.where(df['SpecificUseDetail2'].str.contains('Pool'), 'yes', 'no')\n",
    "df['RecordingDate'] = pd.to_datetime(df['RecordingDate'], format='%Y%m%d')\n",
    "df['ZIPcode5'] = df['ZIPcode5'].astype(int).astype(str)\n",
    "df['coordinates'] = list(zip(df.CENTER_LAT, df.CENTER_LON))\n",
    "df = df.drop(['SpecificUseDetail1', 'SpecificUseDetail2'], axis=1)\n",
    "df = df[(df['SQFTmain'] != 0) & (df['Bedrooms'] != 0) & (df['Bathrooms'] != 0)]\n",
    "df['TotalValue'] = df['TotalValue'].str.strip('$')\n",
    "df['TotalValue'] = pd.to_numeric(df['TotalValue'])"
   ]
  },
  {
   "cell_type": "code",
   "execution_count": 4,
   "metadata": {
    "collapsed": true
   },
   "outputs": [],
   "source": [
    "july = (df['RecordingDate'] >= '2016-07-01') & (df['RecordingDate'] < '2016-08-01')"
   ]
  },
  {
   "cell_type": "code",
   "execution_count": 5,
   "metadata": {
    "collapsed": true
   },
   "outputs": [],
   "source": [
    "df_july = df.loc[july]"
   ]
  },
  {
   "cell_type": "code",
   "execution_count": 6,
   "metadata": {},
   "outputs": [
    {
     "data": {
      "text/html": [
       "<div>\n",
       "<style>\n",
       "    .dataframe thead tr:only-child th {\n",
       "        text-align: right;\n",
       "    }\n",
       "\n",
       "    .dataframe thead th {\n",
       "        text-align: left;\n",
       "    }\n",
       "\n",
       "    .dataframe tbody tr th {\n",
       "        vertical-align: top;\n",
       "    }\n",
       "</style>\n",
       "<table border=\"1\" class=\"dataframe\">\n",
       "  <thead>\n",
       "    <tr style=\"text-align: right;\">\n",
       "      <th></th>\n",
       "      <th>CENTER_LAT</th>\n",
       "      <th>CENTER_LON</th>\n",
       "      <th>ZIPcode5</th>\n",
       "      <th>PropertyLocation</th>\n",
       "      <th>TotalValue</th>\n",
       "      <th>SQFTmain</th>\n",
       "      <th>Units</th>\n",
       "      <th>Bedrooms</th>\n",
       "      <th>Bathrooms</th>\n",
       "      <th>EffectiveYearBuilt</th>\n",
       "      <th>rowID</th>\n",
       "      <th>RecordingDate</th>\n",
       "      <th>TaxRateArea_CITY</th>\n",
       "      <th>house_type</th>\n",
       "      <th>pool</th>\n",
       "      <th>coordinates</th>\n",
       "    </tr>\n",
       "  </thead>\n",
       "  <tbody>\n",
       "    <tr>\n",
       "      <th>12</th>\n",
       "      <td>33.719806</td>\n",
       "      <td>-118.325900</td>\n",
       "      <td>90732</td>\n",
       "      <td>2207 WARMOUTH ST  LOS ANGELES CA  90732</td>\n",
       "      <td>1694000.0</td>\n",
       "      <td>2592</td>\n",
       "      <td>1</td>\n",
       "      <td>3</td>\n",
       "      <td>3</td>\n",
       "      <td>1959</td>\n",
       "      <td>20177563037006</td>\n",
       "      <td>2016-07-29</td>\n",
       "      <td>LOS ANGELES</td>\n",
       "      <td>house</td>\n",
       "      <td>no</td>\n",
       "      <td>(33.7198056, -118.3258995)</td>\n",
       "    </tr>\n",
       "    <tr>\n",
       "      <th>13</th>\n",
       "      <td>33.719599</td>\n",
       "      <td>-118.325547</td>\n",
       "      <td>90732</td>\n",
       "      <td>2197 WARMOUTH ST  LOS ANGELES CA  90732</td>\n",
       "      <td>159442.0</td>\n",
       "      <td>2333</td>\n",
       "      <td>1</td>\n",
       "      <td>4</td>\n",
       "      <td>3</td>\n",
       "      <td>1963</td>\n",
       "      <td>20177563037032</td>\n",
       "      <td>2016-07-20</td>\n",
       "      <td>LOS ANGELES</td>\n",
       "      <td>house</td>\n",
       "      <td>no</td>\n",
       "      <td>(33.71959942, -118.32554666)</td>\n",
       "    </tr>\n",
       "    <tr>\n",
       "      <th>19</th>\n",
       "      <td>33.738143</td>\n",
       "      <td>-118.355705</td>\n",
       "      <td>90275</td>\n",
       "      <td>4319 ADMIRABLE DR  RNCHO PALOS VRDS CA  90275</td>\n",
       "      <td>1250000.0</td>\n",
       "      <td>1865</td>\n",
       "      <td>1</td>\n",
       "      <td>3</td>\n",
       "      <td>3</td>\n",
       "      <td>1956</td>\n",
       "      <td>20177564003021</td>\n",
       "      <td>2016-07-08</td>\n",
       "      <td>RANCHO PALOS VERDES</td>\n",
       "      <td>house</td>\n",
       "      <td>yes</td>\n",
       "      <td>(33.73814294, -118.35570495)</td>\n",
       "    </tr>\n",
       "    <tr>\n",
       "      <th>35</th>\n",
       "      <td>33.735480</td>\n",
       "      <td>-118.351255</td>\n",
       "      <td>90275</td>\n",
       "      <td>4032 EXULTANT DR  RNCHO PALOS VRDS CA  90275</td>\n",
       "      <td>1095000.0</td>\n",
       "      <td>2329</td>\n",
       "      <td>1</td>\n",
       "      <td>3</td>\n",
       "      <td>3</td>\n",
       "      <td>1961</td>\n",
       "      <td>20177564009023</td>\n",
       "      <td>2016-07-29</td>\n",
       "      <td>RANCHO PALOS VERDES</td>\n",
       "      <td>house</td>\n",
       "      <td>no</td>\n",
       "      <td>(33.73548029, -118.35125511)</td>\n",
       "    </tr>\n",
       "    <tr>\n",
       "      <th>42</th>\n",
       "      <td>33.736590</td>\n",
       "      <td>-118.346261</td>\n",
       "      <td>90275</td>\n",
       "      <td>32222 SEA RAVEN DR  RNCHO PALOS VRDS CA  90275</td>\n",
       "      <td>132192.0</td>\n",
       "      <td>2030</td>\n",
       "      <td>1</td>\n",
       "      <td>4</td>\n",
       "      <td>2</td>\n",
       "      <td>1963</td>\n",
       "      <td>20177564013020</td>\n",
       "      <td>2016-07-27</td>\n",
       "      <td>RANCHO PALOS VERDES</td>\n",
       "      <td>house</td>\n",
       "      <td>no</td>\n",
       "      <td>(33.7365904, -118.34626136)</td>\n",
       "    </tr>\n",
       "  </tbody>\n",
       "</table>\n",
       "</div>"
      ],
      "text/plain": [
       "    CENTER_LAT  CENTER_LON ZIPcode5  \\\n",
       "12   33.719806 -118.325900    90732   \n",
       "13   33.719599 -118.325547    90732   \n",
       "19   33.738143 -118.355705    90275   \n",
       "35   33.735480 -118.351255    90275   \n",
       "42   33.736590 -118.346261    90275   \n",
       "\n",
       "                                  PropertyLocation  TotalValue  SQFTmain  \\\n",
       "12         2207 WARMOUTH ST  LOS ANGELES CA  90732   1694000.0      2592   \n",
       "13         2197 WARMOUTH ST  LOS ANGELES CA  90732    159442.0      2333   \n",
       "19   4319 ADMIRABLE DR  RNCHO PALOS VRDS CA  90275   1250000.0      1865   \n",
       "35    4032 EXULTANT DR  RNCHO PALOS VRDS CA  90275   1095000.0      2329   \n",
       "42  32222 SEA RAVEN DR  RNCHO PALOS VRDS CA  90275    132192.0      2030   \n",
       "\n",
       "    Units  Bedrooms  Bathrooms  EffectiveYearBuilt           rowID  \\\n",
       "12      1         3          3                1959  20177563037006   \n",
       "13      1         4          3                1963  20177563037032   \n",
       "19      1         3          3                1956  20177564003021   \n",
       "35      1         3          3                1961  20177564009023   \n",
       "42      1         4          2                1963  20177564013020   \n",
       "\n",
       "   RecordingDate     TaxRateArea_CITY house_type pool  \\\n",
       "12    2016-07-29          LOS ANGELES      house   no   \n",
       "13    2016-07-20          LOS ANGELES      house   no   \n",
       "19    2016-07-08  RANCHO PALOS VERDES      house  yes   \n",
       "35    2016-07-29  RANCHO PALOS VERDES      house   no   \n",
       "42    2016-07-27  RANCHO PALOS VERDES      house   no   \n",
       "\n",
       "                     coordinates  \n",
       "12    (33.7198056, -118.3258995)  \n",
       "13  (33.71959942, -118.32554666)  \n",
       "19  (33.73814294, -118.35570495)  \n",
       "35  (33.73548029, -118.35125511)  \n",
       "42   (33.7365904, -118.34626136)  "
      ]
     },
     "execution_count": 6,
     "metadata": {},
     "output_type": "execute_result"
    }
   ],
   "source": [
    "df_july.head()"
   ]
  },
  {
   "cell_type": "code",
   "execution_count": 7,
   "metadata": {},
   "outputs": [
    {
     "data": {
      "text/plain": [
       "16717"
      ]
     },
     "execution_count": 7,
     "metadata": {},
     "output_type": "execute_result"
    }
   ],
   "source": [
    "len(df_july)"
   ]
  },
  {
   "cell_type": "code",
   "execution_count": 8,
   "metadata": {
    "collapsed": true
   },
   "outputs": [],
   "source": [
    "df_july.to_csv('property_tax_records_July2016.csv', index = False)"
   ]
  },
  {
   "cell_type": "markdown",
   "metadata": {},
   "source": [
    "### Integrate Census DataFrame"
   ]
  },
  {
   "cell_type": "code",
   "execution_count": 9,
   "metadata": {
    "collapsed": true
   },
   "outputs": [],
   "source": [
    "with open('census_dict.txt') as f:\n",
    "    census_features = json.load(f)\n",
    "census_labels = ['zipcode', 'pop_density', 'HH_density', 'Family', 'HH_Kids', \n",
    "          'Owner', 'Vacancy', 'Age', 'Race_W', 'Race_B', 'Race_A', 'Race_H', 'Income', \n",
    "          'Year_Built', 'Commute', 'Drive', 'Carpool2', 'Carpool3', 'Transit', 'Walk', 'Other']\n",
    "df_census = pd.DataFrame.from_dict(census_features, orient='index')\n",
    "df_census.columns = census_labels"
   ]
  },
  {
   "cell_type": "code",
   "execution_count": 10,
   "metadata": {
    "collapsed": true
   },
   "outputs": [],
   "source": [
    "df_census = df_census[['zipcode', 'HH_Kids', 'Owner']]"
   ]
  },
  {
   "cell_type": "code",
   "execution_count": 11,
   "metadata": {},
   "outputs": [
    {
     "name": "stderr",
     "output_type": "stream",
     "text": [
      "/Users/kx/anaconda/lib/python3.5/site-packages/ipykernel_launcher.py:1: SettingWithCopyWarning: \n",
      "A value is trying to be set on a copy of a slice from a DataFrame.\n",
      "Try using .loc[row_indexer,col_indexer] = value instead\n",
      "\n",
      "See the caveats in the documentation: http://pandas.pydata.org/pandas-docs/stable/indexing.html#indexing-view-versus-copy\n",
      "  \"\"\"Entry point for launching an IPython kernel.\n"
     ]
    }
   ],
   "source": [
    "df_july['ZIPcode5'] = df_july['ZIPcode5'].astype(str)\n",
    "df_census['zipcode'] = df_census['zipcode'].astype(str)\n",
    "df_integrated = pd.merge(left=df_july,right=df_census, left_on='ZIPcode5', right_on='zipcode')\n",
    "df_integrated = df_integrated.drop('zipcode', axis=1)"
   ]
  },
  {
   "cell_type": "markdown",
   "metadata": {},
   "source": [
    "### Integrate Parcel Area DataFrame"
   ]
  },
  {
   "cell_type": "code",
   "execution_count": 12,
   "metadata": {
    "collapsed": true
   },
   "outputs": [],
   "source": [
    "df_parcels = pd.read_csv('df_parcels.csv')\n",
    "df_parcels.columns = ['rowID', 'lot_area']\n",
    "df_integrated = pd.merge(left=df_integrated,right=df_parcels, left_on='rowID', right_on='rowID')"
   ]
  },
  {
   "cell_type": "markdown",
   "metadata": {},
   "source": [
    "### Integrate Great School DataFrame"
   ]
  },
  {
   "cell_type": "code",
   "execution_count": 13,
   "metadata": {
    "collapsed": true
   },
   "outputs": [],
   "source": [
    "df_gs = pd.read_csv('df_greatschool.csv')\n",
    "df_gs = df_gs[['rowID', 'closest_school', 'num_choices', 'closest_rating']]\n",
    "df_gs.columns = ['rowID', 'closest_school', 'num_school_choices', 'closest_school_rating']\n",
    "df_integrated = pd.merge(left=df_integrated,right=df_gs, left_on='rowID', right_on='rowID')"
   ]
  },
  {
   "cell_type": "markdown",
   "metadata": {},
   "source": [
    "### Integrate Elevation"
   ]
  },
  {
   "cell_type": "code",
   "execution_count": 14,
   "metadata": {
    "collapsed": true
   },
   "outputs": [],
   "source": [
    "df_elevation = pd.read_csv('df_elevation.csv')\n",
    "df_elevation = df_elevation[['rowID', 'elevation']]\n",
    "df_integrated = pd.merge(left=df_integrated,right=df_elevation, left_on='rowID', right_on='rowID')"
   ]
  },
  {
   "cell_type": "markdown",
   "metadata": {},
   "source": [
    "### Integrate Nearby Places"
   ]
  },
  {
   "cell_type": "code",
   "execution_count": 15,
   "metadata": {
    "collapsed": true
   },
   "outputs": [],
   "source": [
    "df_nearby_places = pd.read_csv('df_nearby_places.csv')\n",
    "df_nearby_places = df_nearby_places[['rowID', 'groceries', 'parks']]\n",
    "df_integrated = pd.merge(left=df_integrated,right=df_nearby_places, left_on='rowID', right_on='rowID')"
   ]
  },
  {
   "cell_type": "code",
   "execution_count": 16,
   "metadata": {},
   "outputs": [
    {
     "data": {
      "text/plain": [
       "16561"
      ]
     },
     "execution_count": 16,
     "metadata": {},
     "output_type": "execute_result"
    }
   ],
   "source": [
    "len(df_integrated)"
   ]
  },
  {
   "cell_type": "markdown",
   "metadata": {},
   "source": [
    "### Integrate Crime DataFrame"
   ]
  },
  {
   "cell_type": "code",
   "execution_count": 17,
   "metadata": {
    "collapsed": true
   },
   "outputs": [],
   "source": [
    "df_crime = pd.read_csv('df_shooting.csv')\n",
    "df_crime['zipcode'] = df_crime['zipcode'].astype(str)\n",
    "df_crime.columns = ['crime', 'zipcode']"
   ]
  },
  {
   "cell_type": "code",
   "execution_count": 18,
   "metadata": {
    "collapsed": true
   },
   "outputs": [],
   "source": [
    "df_integrated = pd.merge(left=df_integrated,right=df_crime, left_on='ZIPcode5', right_on='zipcode')\n",
    "df_integrated = df_integrated.drop('zipcode', axis=1)"
   ]
  },
  {
   "cell_type": "code",
   "execution_count": 19,
   "metadata": {},
   "outputs": [
    {
     "data": {
      "text/plain": [
       "16561"
      ]
     },
     "execution_count": 19,
     "metadata": {},
     "output_type": "execute_result"
    }
   ],
   "source": [
    "len(df_integrated)"
   ]
  },
  {
   "cell_type": "markdown",
   "metadata": {},
   "source": [
    "### Integrate Walkscore DataFrame"
   ]
  },
  {
   "cell_type": "code",
   "execution_count": 20,
   "metadata": {
    "collapsed": true
   },
   "outputs": [],
   "source": [
    "df_walkscore = pd.read_csv('df_walkscore.csv')"
   ]
  },
  {
   "cell_type": "code",
   "execution_count": 21,
   "metadata": {
    "collapsed": true
   },
   "outputs": [],
   "source": [
    "df_walkscore = df_walkscore[df_walkscore['walkscore'] != 0][['address','walkscore', 'transit_score', 'bike_score']]"
   ]
  },
  {
   "cell_type": "code",
   "execution_count": 22,
   "metadata": {
    "collapsed": true
   },
   "outputs": [],
   "source": [
    "df_integrated = pd.merge(left=df_integrated,right=df_walkscore, left_on='PropertyLocation', right_on='address')\n",
    "df_integrated = df_integrated.drop('address', axis=1)"
   ]
  },
  {
   "cell_type": "code",
   "execution_count": 23,
   "metadata": {},
   "outputs": [
    {
     "data": {
      "text/plain": [
       "(7070, 29)"
      ]
     },
     "execution_count": 23,
     "metadata": {},
     "output_type": "execute_result"
    }
   ],
   "source": [
    "df_integrated.shape"
   ]
  },
  {
   "cell_type": "markdown",
   "metadata": {},
   "source": [
    "### Export Integrated DataFrame"
   ]
  },
  {
   "cell_type": "code",
   "execution_count": 24,
   "metadata": {},
   "outputs": [
    {
     "data": {
      "text/html": [
       "<div>\n",
       "<style>\n",
       "    .dataframe thead tr:only-child th {\n",
       "        text-align: right;\n",
       "    }\n",
       "\n",
       "    .dataframe thead th {\n",
       "        text-align: left;\n",
       "    }\n",
       "\n",
       "    .dataframe tbody tr th {\n",
       "        vertical-align: top;\n",
       "    }\n",
       "</style>\n",
       "<table border=\"1\" class=\"dataframe\">\n",
       "  <thead>\n",
       "    <tr style=\"text-align: right;\">\n",
       "      <th></th>\n",
       "      <th>CENTER_LAT</th>\n",
       "      <th>CENTER_LON</th>\n",
       "      <th>ZIPcode5</th>\n",
       "      <th>PropertyLocation</th>\n",
       "      <th>TotalValue</th>\n",
       "      <th>SQFTmain</th>\n",
       "      <th>Units</th>\n",
       "      <th>Bedrooms</th>\n",
       "      <th>Bathrooms</th>\n",
       "      <th>EffectiveYearBuilt</th>\n",
       "      <th>...</th>\n",
       "      <th>closest_school</th>\n",
       "      <th>num_school_choices</th>\n",
       "      <th>closest_school_rating</th>\n",
       "      <th>elevation</th>\n",
       "      <th>groceries</th>\n",
       "      <th>parks</th>\n",
       "      <th>crime</th>\n",
       "      <th>walkscore</th>\n",
       "      <th>transit_score</th>\n",
       "      <th>bike_score</th>\n",
       "    </tr>\n",
       "  </thead>\n",
       "  <tbody>\n",
       "    <tr>\n",
       "      <th>0</th>\n",
       "      <td>33.719806</td>\n",
       "      <td>-118.325900</td>\n",
       "      <td>90732</td>\n",
       "      <td>2207 WARMOUTH ST  LOS ANGELES CA  90732</td>\n",
       "      <td>1694000.0</td>\n",
       "      <td>2592</td>\n",
       "      <td>1</td>\n",
       "      <td>3</td>\n",
       "      <td>3</td>\n",
       "      <td>1959</td>\n",
       "      <td>...</td>\n",
       "      <td>0.27</td>\n",
       "      <td>1.0</td>\n",
       "      <td>6.0</td>\n",
       "      <td>49.198009</td>\n",
       "      <td>3.0</td>\n",
       "      <td>4.0</td>\n",
       "      <td>0.0</td>\n",
       "      <td>18</td>\n",
       "      <td>11</td>\n",
       "      <td>9</td>\n",
       "    </tr>\n",
       "    <tr>\n",
       "      <th>1</th>\n",
       "      <td>33.719599</td>\n",
       "      <td>-118.325547</td>\n",
       "      <td>90732</td>\n",
       "      <td>2197 WARMOUTH ST  LOS ANGELES CA  90732</td>\n",
       "      <td>159442.0</td>\n",
       "      <td>2333</td>\n",
       "      <td>1</td>\n",
       "      <td>4</td>\n",
       "      <td>3</td>\n",
       "      <td>1963</td>\n",
       "      <td>...</td>\n",
       "      <td>0.26</td>\n",
       "      <td>1.0</td>\n",
       "      <td>6.0</td>\n",
       "      <td>48.694706</td>\n",
       "      <td>3.0</td>\n",
       "      <td>4.0</td>\n",
       "      <td>0.0</td>\n",
       "      <td>18</td>\n",
       "      <td>11</td>\n",
       "      <td>9</td>\n",
       "    </tr>\n",
       "    <tr>\n",
       "      <th>2</th>\n",
       "      <td>33.738143</td>\n",
       "      <td>-118.355705</td>\n",
       "      <td>90275</td>\n",
       "      <td>4319 ADMIRABLE DR  RNCHO PALOS VRDS CA  90275</td>\n",
       "      <td>1250000.0</td>\n",
       "      <td>1865</td>\n",
       "      <td>1</td>\n",
       "      <td>3</td>\n",
       "      <td>3</td>\n",
       "      <td>1956</td>\n",
       "      <td>...</td>\n",
       "      <td>1.27</td>\n",
       "      <td>0.0</td>\n",
       "      <td>9.0</td>\n",
       "      <td>82.350777</td>\n",
       "      <td>0.0</td>\n",
       "      <td>4.0</td>\n",
       "      <td>0.0</td>\n",
       "      <td>4</td>\n",
       "      <td>0</td>\n",
       "      <td>0</td>\n",
       "    </tr>\n",
       "    <tr>\n",
       "      <th>3</th>\n",
       "      <td>33.735480</td>\n",
       "      <td>-118.351255</td>\n",
       "      <td>90275</td>\n",
       "      <td>4032 EXULTANT DR  RNCHO PALOS VRDS CA  90275</td>\n",
       "      <td>1095000.0</td>\n",
       "      <td>2329</td>\n",
       "      <td>1</td>\n",
       "      <td>3</td>\n",
       "      <td>3</td>\n",
       "      <td>1961</td>\n",
       "      <td>...</td>\n",
       "      <td>1.06</td>\n",
       "      <td>0.0</td>\n",
       "      <td>9.0</td>\n",
       "      <td>95.827736</td>\n",
       "      <td>0.0</td>\n",
       "      <td>4.0</td>\n",
       "      <td>0.0</td>\n",
       "      <td>11</td>\n",
       "      <td>0</td>\n",
       "      <td>0</td>\n",
       "    </tr>\n",
       "    <tr>\n",
       "      <th>4</th>\n",
       "      <td>33.736590</td>\n",
       "      <td>-118.346261</td>\n",
       "      <td>90275</td>\n",
       "      <td>32222 SEA RAVEN DR  RNCHO PALOS VRDS CA  90275</td>\n",
       "      <td>132192.0</td>\n",
       "      <td>2030</td>\n",
       "      <td>1</td>\n",
       "      <td>4</td>\n",
       "      <td>2</td>\n",
       "      <td>1963</td>\n",
       "      <td>...</td>\n",
       "      <td>0.77</td>\n",
       "      <td>1.0</td>\n",
       "      <td>9.0</td>\n",
       "      <td>135.799332</td>\n",
       "      <td>0.0</td>\n",
       "      <td>4.0</td>\n",
       "      <td>0.0</td>\n",
       "      <td>10</td>\n",
       "      <td>0</td>\n",
       "      <td>0</td>\n",
       "    </tr>\n",
       "  </tbody>\n",
       "</table>\n",
       "<p>5 rows × 29 columns</p>\n",
       "</div>"
      ],
      "text/plain": [
       "   CENTER_LAT  CENTER_LON ZIPcode5  \\\n",
       "0   33.719806 -118.325900    90732   \n",
       "1   33.719599 -118.325547    90732   \n",
       "2   33.738143 -118.355705    90275   \n",
       "3   33.735480 -118.351255    90275   \n",
       "4   33.736590 -118.346261    90275   \n",
       "\n",
       "                                 PropertyLocation  TotalValue  SQFTmain  \\\n",
       "0         2207 WARMOUTH ST  LOS ANGELES CA  90732   1694000.0      2592   \n",
       "1         2197 WARMOUTH ST  LOS ANGELES CA  90732    159442.0      2333   \n",
       "2   4319 ADMIRABLE DR  RNCHO PALOS VRDS CA  90275   1250000.0      1865   \n",
       "3    4032 EXULTANT DR  RNCHO PALOS VRDS CA  90275   1095000.0      2329   \n",
       "4  32222 SEA RAVEN DR  RNCHO PALOS VRDS CA  90275    132192.0      2030   \n",
       "\n",
       "   Units  Bedrooms  Bathrooms  EffectiveYearBuilt     ...      closest_school  \\\n",
       "0      1         3          3                1959     ...                0.27   \n",
       "1      1         4          3                1963     ...                0.26   \n",
       "2      1         3          3                1956     ...                1.27   \n",
       "3      1         3          3                1961     ...                1.06   \n",
       "4      1         4          2                1963     ...                0.77   \n",
       "\n",
       "  num_school_choices closest_school_rating   elevation groceries parks  crime  \\\n",
       "0                1.0                   6.0   49.198009       3.0   4.0    0.0   \n",
       "1                1.0                   6.0   48.694706       3.0   4.0    0.0   \n",
       "2                0.0                   9.0   82.350777       0.0   4.0    0.0   \n",
       "3                0.0                   9.0   95.827736       0.0   4.0    0.0   \n",
       "4                1.0                   9.0  135.799332       0.0   4.0    0.0   \n",
       "\n",
       "   walkscore  transit_score  bike_score  \n",
       "0         18             11           9  \n",
       "1         18             11           9  \n",
       "2          4              0           0  \n",
       "3         11              0           0  \n",
       "4         10              0           0  \n",
       "\n",
       "[5 rows x 29 columns]"
      ]
     },
     "execution_count": 24,
     "metadata": {},
     "output_type": "execute_result"
    }
   ],
   "source": [
    "df_integrated.head()"
   ]
  },
  {
   "cell_type": "code",
   "execution_count": 25,
   "metadata": {},
   "outputs": [
    {
     "data": {
      "text/plain": [
       "Index(['CENTER_LAT', 'CENTER_LON', 'ZIPcode5', 'PropertyLocation',\n",
       "       'TotalValue', 'SQFTmain', 'Units', 'Bedrooms', 'Bathrooms',\n",
       "       'EffectiveYearBuilt', 'rowID', 'RecordingDate', 'TaxRateArea_CITY',\n",
       "       'house_type', 'pool', 'coordinates', 'HH_Kids', 'Owner', 'lot_area',\n",
       "       'closest_school', 'num_school_choices', 'closest_school_rating',\n",
       "       'elevation', 'groceries', 'parks', 'crime', 'walkscore',\n",
       "       'transit_score', 'bike_score'],\n",
       "      dtype='object')"
      ]
     },
     "execution_count": 25,
     "metadata": {},
     "output_type": "execute_result"
    }
   ],
   "source": [
    "df_integrated.columns"
   ]
  },
  {
   "cell_type": "code",
   "execution_count": 27,
   "metadata": {
    "collapsed": true
   },
   "outputs": [],
   "source": [
    "df_integrated = df_integrated[df_integrated['Bedrooms'] < 10] # there are a couple of properties that have hundreds of bedrooms\n",
    "df_integrated = df_integrated[df_integrated['EffectiveYearBuilt'] != 0] # there are a couple of properties that have no effective year"
   ]
  },
  {
   "cell_type": "code",
   "execution_count": 29,
   "metadata": {
    "collapsed": true
   },
   "outputs": [],
   "source": [
    "df_integrated.to_csv('df_integrated_0714.csv', index = False)"
   ]
  }
 ],
 "metadata": {
  "kernelspec": {
   "display_name": "Python 3",
   "language": "python",
   "name": "python3"
  },
  "language_info": {
   "codemirror_mode": {
    "name": "ipython",
    "version": 3
   },
   "file_extension": ".py",
   "mimetype": "text/x-python",
   "name": "python",
   "nbconvert_exporter": "python",
   "pygments_lexer": "ipython3",
   "version": "3.5.2"
  }
 },
 "nbformat": 4,
 "nbformat_minor": 2
}
