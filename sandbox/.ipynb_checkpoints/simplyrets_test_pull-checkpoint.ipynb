{
 "cells": [
  {
   "cell_type": "code",
   "execution_count": 1,
   "metadata": {},
   "outputs": [],
   "source": [
    "import json\n",
    "import requests\n",
    "import pandas as pd"
   ]
  },
  {
   "cell_type": "markdown",
   "metadata": {},
   "source": [
    "command line cURL requests confirm connection: potential method to fill a db"
   ]
  },
  {
   "cell_type": "code",
   "execution_count": 2,
   "metadata": {},
   "outputs": [
    {
     "name": "stdout",
     "output_type": "stream",
     "text": [
      "{\"expires\":\"2018-06-07T06:10:51.7783Z\",\"vendors\":[],\"updates\":{},\"endpoints\":[\"/listings\"],\"accepts\":[\"application/json\",\"application/vnd.simplyrets-v0.1+json\"]}"
     ]
    }
   ],
   "source": [
    "!curl -XOPTIONS -u simplyrets:simplyrets https://api.simplyrets.com/"
   ]
  },
  {
   "cell_type": "code",
   "execution_count": 3,
   "metadata": {},
   "outputs": [
    {
     "name": "stdout",
     "output_type": "stream",
     "text": [
      "/bin/sh: application/json: No such file or directory\n"
     ]
    }
   ],
   "source": [
    "!application/json"
   ]
  },
  {
   "cell_type": "code",
   "execution_count": 4,
   "metadata": {},
   "outputs": [
    {
     "name": "stdout",
     "output_type": "stream",
     "text": [
      "/Users/dan/Google Drive/DataSci/210_capstone/sandbox\n"
     ]
    }
   ],
   "source": [
    "!pwd"
   ]
  },
  {
   "cell_type": "code",
   "execution_count": 5,
   "metadata": {},
   "outputs": [],
   "source": [
    "!curl -u simplyrets:semplyrets https://api.simplyrets.com/properties?limit=500&lastId=0"
   ]
  },
  {
   "cell_type": "markdown",
   "metadata": {},
   "source": [
    "##pull from simplyrets\n",
    "https://docs.simplyrets.com/api/index.html#!/default/get_properties"
   ]
  },
  {
   "cell_type": "code",
   "execution_count": 7,
   "metadata": {},
   "outputs": [],
   "source": [
    "#sample data uses simplyrets default authentication.  Need to pay to get custom auth + real access\n",
    "response = requests.get(\"https://api.simplyrets.com/properties?minprice=200000&count=true&limit=5\", auth=('simplyrets', 'simplyrets'))\n",
    "data = json.loads(response.content.decode(response.encoding))\n",
    "df = pd.DataFrame([data])\n",
    "\n",
    "df = df.transpose()"
   ]
  },
  {
   "cell_type": "code",
   "execution_count": 8,
   "metadata": {},
   "outputs": [
    {
     "data": {
      "text/html": [
       "<div>\n",
       "<style>\n",
       "    .dataframe thead tr:only-child th {\n",
       "        text-align: right;\n",
       "    }\n",
       "\n",
       "    .dataframe thead th {\n",
       "        text-align: left;\n",
       "    }\n",
       "\n",
       "    .dataframe tbody tr th {\n",
       "        vertical-align: top;\n",
       "    }\n",
       "</style>\n",
       "<table border=\"1\" class=\"dataframe\">\n",
       "  <thead>\n",
       "    <tr style=\"text-align: right;\">\n",
       "      <th></th>\n",
       "      <th>0</th>\n",
       "    </tr>\n",
       "  </thead>\n",
       "  <tbody>\n",
       "    <tr>\n",
       "      <th>0</th>\n",
       "      <td>{'agent': {'firstName': 'Shoshana', 'lastName'...</td>\n",
       "    </tr>\n",
       "    <tr>\n",
       "      <th>1</th>\n",
       "      <td>{'agent': {'firstName': 'Branden', 'lastName':...</td>\n",
       "    </tr>\n",
       "    <tr>\n",
       "      <th>2</th>\n",
       "      <td>{'agent': {'firstName': 'Vielka', 'lastName': ...</td>\n",
       "    </tr>\n",
       "    <tr>\n",
       "      <th>3</th>\n",
       "      <td>{'agent': {'firstName': 'Vanna', 'lastName': '...</td>\n",
       "    </tr>\n",
       "    <tr>\n",
       "      <th>4</th>\n",
       "      <td>{'agent': {'firstName': 'Zeus', 'lastName': 'B...</td>\n",
       "    </tr>\n",
       "  </tbody>\n",
       "</table>\n",
       "</div>"
      ],
      "text/plain": [
       "                                                   0\n",
       "0  {'agent': {'firstName': 'Shoshana', 'lastName'...\n",
       "1  {'agent': {'firstName': 'Branden', 'lastName':...\n",
       "2  {'agent': {'firstName': 'Vielka', 'lastName': ...\n",
       "3  {'agent': {'firstName': 'Vanna', 'lastName': '...\n",
       "4  {'agent': {'firstName': 'Zeus', 'lastName': 'B..."
      ]
     },
     "execution_count": 8,
     "metadata": {},
     "output_type": "execute_result"
    }
   ],
   "source": [
    "df"
   ]
  },
  {
   "cell_type": "code",
   "execution_count": 9,
   "metadata": {},
   "outputs": [
    {
     "data": {
      "text/plain": [
       "RangeIndex(start=0, stop=5, step=1)"
      ]
     },
     "execution_count": 9,
     "metadata": {},
     "output_type": "execute_result"
    }
   ],
   "source": [
    "#just checking\n",
    "df[0].keys()"
   ]
  },
  {
   "cell_type": "code",
   "execution_count": 10,
   "metadata": {},
   "outputs": [],
   "source": [
    "#re-write to simple json format\n",
    "df2 = df[0]"
   ]
  },
  {
   "cell_type": "code",
   "execution_count": 11,
   "metadata": {},
   "outputs": [],
   "source": [
    "# write key information to dataframe\n",
    "dict_for_df = {}\n",
    "for key in df2.keys():\n",
    "    dict_for_df[key] = df2[key]\n",
    "\n",
    "listings = pd.DataFrame(dict_for_df)#,index = ['attribute1','attribute2'])\n",
    "listings = pd.DataFrame.transpose(listings)"
   ]
  },
  {
   "cell_type": "code",
   "execution_count": 12,
   "metadata": {},
   "outputs": [
    {
     "data": {
      "text/html": [
       "<div>\n",
       "<style>\n",
       "    .dataframe thead tr:only-child th {\n",
       "        text-align: right;\n",
       "    }\n",
       "\n",
       "    .dataframe thead th {\n",
       "        text-align: left;\n",
       "    }\n",
       "\n",
       "    .dataframe tbody tr th {\n",
       "        vertical-align: top;\n",
       "    }\n",
       "</style>\n",
       "<table border=\"1\" class=\"dataframe\">\n",
       "  <thead>\n",
       "    <tr style=\"text-align: right;\">\n",
       "      <th></th>\n",
       "      <th>address</th>\n",
       "      <th>agent</th>\n",
       "      <th>agreement</th>\n",
       "      <th>association</th>\n",
       "      <th>coAgent</th>\n",
       "      <th>disclaimer</th>\n",
       "      <th>geo</th>\n",
       "      <th>leaseTerm</th>\n",
       "      <th>leaseType</th>\n",
       "      <th>listDate</th>\n",
       "      <th>...</th>\n",
       "      <th>photos</th>\n",
       "      <th>privateRemarks</th>\n",
       "      <th>property</th>\n",
       "      <th>remarks</th>\n",
       "      <th>sales</th>\n",
       "      <th>school</th>\n",
       "      <th>showingInstructions</th>\n",
       "      <th>tax</th>\n",
       "      <th>terms</th>\n",
       "      <th>virtualTourUrl</th>\n",
       "    </tr>\n",
       "  </thead>\n",
       "  <tbody>\n",
       "    <tr>\n",
       "      <th>0</th>\n",
       "      <td>{'country': 'United States', 'streetNumberText...</td>\n",
       "      <td>{'firstName': 'Shoshana', 'lastName': 'Phelps'...</td>\n",
       "      <td>Purchaser Exemptions</td>\n",
       "      <td>{'amenities': 'Club House,Community Pool,Garde...</td>\n",
       "      <td>{'firstName': None, 'lastName': None, 'contact...</td>\n",
       "      <td>This information is believed to be accurate, b...</td>\n",
       "      <td>{'marketArea': 'Spring/Klein', 'lat': 29.68941...</td>\n",
       "      <td>None</td>\n",
       "      <td>FullServ</td>\n",
       "      <td>2011-05-23T18:50:30.184391Z</td>\n",
       "      <td>...</td>\n",
       "      <td>[https://s3-us-west-2.amazonaws.com/cdn.simply...</td>\n",
       "      <td>This property is a trial property to test the ...</td>\n",
       "      <td>{'water': None, 'parking': {'leased': None, 's...</td>\n",
       "      <td>This property is a trial property to test the ...</td>\n",
       "      <td>{'agent': {'firstName': 'Buffy', 'lastName': '...</td>\n",
       "      <td>{'highSchool': 'Cy Creek', 'middleSchool': 'FA...</td>\n",
       "      <td>The showing instructions for this trial proper...</td>\n",
       "      <td>{'taxYear': 1981, 'taxAnnualAmount': 3180, 'id...</td>\n",
       "      <td>Conventional</td>\n",
       "      <td>None</td>\n",
       "    </tr>\n",
       "    <tr>\n",
       "      <th>1</th>\n",
       "      <td>{'country': 'United States', 'streetNumberText...</td>\n",
       "      <td>{'firstName': 'Branden', 'lastName': 'Gardner'...</td>\n",
       "      <td>Exclusive Right To Sell</td>\n",
       "      <td>{'amenities': 'Club House,Community Pool,Garde...</td>\n",
       "      <td>{'firstName': None, 'lastName': None, 'contact...</td>\n",
       "      <td>This information is believed to be accurate, b...</td>\n",
       "      <td>{'marketArea': 'Kingwood South', 'lat': 29.780...</td>\n",
       "      <td>None</td>\n",
       "      <td>None</td>\n",
       "      <td>1994-10-25T13:58:17.284009Z</td>\n",
       "      <td>...</td>\n",
       "      <td>[https://s3-us-west-2.amazonaws.com/cdn.simply...</td>\n",
       "      <td>This property is a trial property to test the ...</td>\n",
       "      <td>{'water': None, 'parking': {'leased': None, 's...</td>\n",
       "      <td>This property is a trial property to test the ...</td>\n",
       "      <td>{'agent': {'firstName': 'Vaughan', 'lastName':...</td>\n",
       "      <td>{'highSchool': 'Dekaney', 'middleSchool': 'Pat...</td>\n",
       "      <td>The showing instructions for this trial proper...</td>\n",
       "      <td>{'taxYear': 1990, 'taxAnnualAmount': 941, 'id'...</td>\n",
       "      <td>FHA,VA</td>\n",
       "      <td>None</td>\n",
       "    </tr>\n",
       "    <tr>\n",
       "      <th>2</th>\n",
       "      <td>{'country': 'United States', 'streetNumberText...</td>\n",
       "      <td>{'firstName': 'Vielka', 'lastName': 'Peters', ...</td>\n",
       "      <td>Purchaser Exemptions</td>\n",
       "      <td>{'amenities': 'Club House,Community Pool,Garde...</td>\n",
       "      <td>{'firstName': None, 'lastName': None, 'contact...</td>\n",
       "      <td>This information is believed to be accurate, b...</td>\n",
       "      <td>{'marketArea': 'The Woodlands', 'lat': 29.7984...</td>\n",
       "      <td>None</td>\n",
       "      <td>FullServ</td>\n",
       "      <td>1991-11-26T02:10:22.559163Z</td>\n",
       "      <td>...</td>\n",
       "      <td>[https://s3-us-west-2.amazonaws.com/cdn.simply...</td>\n",
       "      <td>This property is a trial property to test the ...</td>\n",
       "      <td>{'water': None, 'parking': {'leased': None, 's...</td>\n",
       "      <td>This property is a trial property to test the ...</td>\n",
       "      <td>{'agent': {'firstName': 'Hyacinth', 'lastName'...</td>\n",
       "      <td>{'highSchool': 'Memorial', 'middleSchool': 'Hu...</td>\n",
       "      <td>The showing instructions for this trial proper...</td>\n",
       "      <td>{'taxYear': 1963, 'taxAnnualAmount': 1179, 'id...</td>\n",
       "      <td>Month-Mo</td>\n",
       "      <td>None</td>\n",
       "    </tr>\n",
       "    <tr>\n",
       "      <th>3</th>\n",
       "      <td>{'country': 'United States', 'streetNumberText...</td>\n",
       "      <td>{'firstName': 'Vanna', 'lastName': 'Juarez', '...</td>\n",
       "      <td>Open</td>\n",
       "      <td>{'amenities': 'Club House,Community Pool,Garde...</td>\n",
       "      <td>{'firstName': None, 'lastName': None, 'contact...</td>\n",
       "      <td>This information is believed to be accurate, b...</td>\n",
       "      <td>{'marketArea': 'Montrose', 'lat': 29.58936, 'l...</td>\n",
       "      <td>None</td>\n",
       "      <td>Double Net</td>\n",
       "      <td>1991-12-12T00:45:02.01603Z</td>\n",
       "      <td>...</td>\n",
       "      <td>[https://s3-us-west-2.amazonaws.com/cdn.simply...</td>\n",
       "      <td>This property is a trial property to test the ...</td>\n",
       "      <td>{'water': None, 'parking': {'leased': None, 's...</td>\n",
       "      <td>This property is a trial property to test the ...</td>\n",
       "      <td>{'agent': {'firstName': 'Scott', 'lastName': '...</td>\n",
       "      <td>{'highSchool': 'Klein Oak', 'middleSchool': 'F...</td>\n",
       "      <td>The showing instructions for this trial proper...</td>\n",
       "      <td>{'taxYear': 1951, 'taxAnnualAmount': 9766, 'id...</td>\n",
       "      <td>Lease/Purchase,Owner May Help/Assist,Purchase ...</td>\n",
       "      <td>None</td>\n",
       "    </tr>\n",
       "    <tr>\n",
       "      <th>4</th>\n",
       "      <td>{'country': 'United States', 'streetNumberText...</td>\n",
       "      <td>{'firstName': 'Zeus', 'lastName': 'Bradley', '...</td>\n",
       "      <td>Trans. Brokerage</td>\n",
       "      <td>{'amenities': 'Club House,Community Pool,Garde...</td>\n",
       "      <td>{'firstName': None, 'lastName': None, 'contact...</td>\n",
       "      <td>This information is believed to be accurate, b...</td>\n",
       "      <td>{'marketArea': 'Garden Oaks', 'lat': 29.990548...</td>\n",
       "      <td>None</td>\n",
       "      <td>Double Net,Full,Triple Net</td>\n",
       "      <td>2012-08-20T20:55:20.181572Z</td>\n",
       "      <td>...</td>\n",
       "      <td>[https://s3-us-west-2.amazonaws.com/cdn.simply...</td>\n",
       "      <td>This property is a trial property to test the ...</td>\n",
       "      <td>{'water': None, 'parking': {'leased': None, 's...</td>\n",
       "      <td>This property is a trial property to test the ...</td>\n",
       "      <td>{'agent': {'firstName': 'Buffy', 'lastName': '...</td>\n",
       "      <td>{'highSchool': 'SBISD', 'middleSchool': 'SBISD...</td>\n",
       "      <td>The showing instructions for this trial proper...</td>\n",
       "      <td>{'taxYear': 1963, 'taxAnnualAmount': 5945, 'id...</td>\n",
       "      <td>FHA-Va Approved,Fa,Conventional,All Cash</td>\n",
       "      <td>None</td>\n",
       "    </tr>\n",
       "  </tbody>\n",
       "</table>\n",
       "<p>5 rows × 26 columns</p>\n",
       "</div>"
      ],
      "text/plain": [
       "                                             address  \\\n",
       "0  {'country': 'United States', 'streetNumberText...   \n",
       "1  {'country': 'United States', 'streetNumberText...   \n",
       "2  {'country': 'United States', 'streetNumberText...   \n",
       "3  {'country': 'United States', 'streetNumberText...   \n",
       "4  {'country': 'United States', 'streetNumberText...   \n",
       "\n",
       "                                               agent                agreement  \\\n",
       "0  {'firstName': 'Shoshana', 'lastName': 'Phelps'...     Purchaser Exemptions   \n",
       "1  {'firstName': 'Branden', 'lastName': 'Gardner'...  Exclusive Right To Sell   \n",
       "2  {'firstName': 'Vielka', 'lastName': 'Peters', ...     Purchaser Exemptions   \n",
       "3  {'firstName': 'Vanna', 'lastName': 'Juarez', '...                     Open   \n",
       "4  {'firstName': 'Zeus', 'lastName': 'Bradley', '...         Trans. Brokerage   \n",
       "\n",
       "                                         association  \\\n",
       "0  {'amenities': 'Club House,Community Pool,Garde...   \n",
       "1  {'amenities': 'Club House,Community Pool,Garde...   \n",
       "2  {'amenities': 'Club House,Community Pool,Garde...   \n",
       "3  {'amenities': 'Club House,Community Pool,Garde...   \n",
       "4  {'amenities': 'Club House,Community Pool,Garde...   \n",
       "\n",
       "                                             coAgent  \\\n",
       "0  {'firstName': None, 'lastName': None, 'contact...   \n",
       "1  {'firstName': None, 'lastName': None, 'contact...   \n",
       "2  {'firstName': None, 'lastName': None, 'contact...   \n",
       "3  {'firstName': None, 'lastName': None, 'contact...   \n",
       "4  {'firstName': None, 'lastName': None, 'contact...   \n",
       "\n",
       "                                          disclaimer  \\\n",
       "0  This information is believed to be accurate, b...   \n",
       "1  This information is believed to be accurate, b...   \n",
       "2  This information is believed to be accurate, b...   \n",
       "3  This information is believed to be accurate, b...   \n",
       "4  This information is believed to be accurate, b...   \n",
       "\n",
       "                                                 geo leaseTerm  \\\n",
       "0  {'marketArea': 'Spring/Klein', 'lat': 29.68941...      None   \n",
       "1  {'marketArea': 'Kingwood South', 'lat': 29.780...      None   \n",
       "2  {'marketArea': 'The Woodlands', 'lat': 29.7984...      None   \n",
       "3  {'marketArea': 'Montrose', 'lat': 29.58936, 'l...      None   \n",
       "4  {'marketArea': 'Garden Oaks', 'lat': 29.990548...      None   \n",
       "\n",
       "                    leaseType                     listDate      ...        \\\n",
       "0                    FullServ  2011-05-23T18:50:30.184391Z      ...         \n",
       "1                        None  1994-10-25T13:58:17.284009Z      ...         \n",
       "2                    FullServ  1991-11-26T02:10:22.559163Z      ...         \n",
       "3                  Double Net   1991-12-12T00:45:02.01603Z      ...         \n",
       "4  Double Net,Full,Triple Net  2012-08-20T20:55:20.181572Z      ...         \n",
       "\n",
       "                                              photos  \\\n",
       "0  [https://s3-us-west-2.amazonaws.com/cdn.simply...   \n",
       "1  [https://s3-us-west-2.amazonaws.com/cdn.simply...   \n",
       "2  [https://s3-us-west-2.amazonaws.com/cdn.simply...   \n",
       "3  [https://s3-us-west-2.amazonaws.com/cdn.simply...   \n",
       "4  [https://s3-us-west-2.amazonaws.com/cdn.simply...   \n",
       "\n",
       "                                      privateRemarks  \\\n",
       "0  This property is a trial property to test the ...   \n",
       "1  This property is a trial property to test the ...   \n",
       "2  This property is a trial property to test the ...   \n",
       "3  This property is a trial property to test the ...   \n",
       "4  This property is a trial property to test the ...   \n",
       "\n",
       "                                            property  \\\n",
       "0  {'water': None, 'parking': {'leased': None, 's...   \n",
       "1  {'water': None, 'parking': {'leased': None, 's...   \n",
       "2  {'water': None, 'parking': {'leased': None, 's...   \n",
       "3  {'water': None, 'parking': {'leased': None, 's...   \n",
       "4  {'water': None, 'parking': {'leased': None, 's...   \n",
       "\n",
       "                                             remarks  \\\n",
       "0  This property is a trial property to test the ...   \n",
       "1  This property is a trial property to test the ...   \n",
       "2  This property is a trial property to test the ...   \n",
       "3  This property is a trial property to test the ...   \n",
       "4  This property is a trial property to test the ...   \n",
       "\n",
       "                                               sales  \\\n",
       "0  {'agent': {'firstName': 'Buffy', 'lastName': '...   \n",
       "1  {'agent': {'firstName': 'Vaughan', 'lastName':...   \n",
       "2  {'agent': {'firstName': 'Hyacinth', 'lastName'...   \n",
       "3  {'agent': {'firstName': 'Scott', 'lastName': '...   \n",
       "4  {'agent': {'firstName': 'Buffy', 'lastName': '...   \n",
       "\n",
       "                                              school  \\\n",
       "0  {'highSchool': 'Cy Creek', 'middleSchool': 'FA...   \n",
       "1  {'highSchool': 'Dekaney', 'middleSchool': 'Pat...   \n",
       "2  {'highSchool': 'Memorial', 'middleSchool': 'Hu...   \n",
       "3  {'highSchool': 'Klein Oak', 'middleSchool': 'F...   \n",
       "4  {'highSchool': 'SBISD', 'middleSchool': 'SBISD...   \n",
       "\n",
       "                                 showingInstructions  \\\n",
       "0  The showing instructions for this trial proper...   \n",
       "1  The showing instructions for this trial proper...   \n",
       "2  The showing instructions for this trial proper...   \n",
       "3  The showing instructions for this trial proper...   \n",
       "4  The showing instructions for this trial proper...   \n",
       "\n",
       "                                                 tax  \\\n",
       "0  {'taxYear': 1981, 'taxAnnualAmount': 3180, 'id...   \n",
       "1  {'taxYear': 1990, 'taxAnnualAmount': 941, 'id'...   \n",
       "2  {'taxYear': 1963, 'taxAnnualAmount': 1179, 'id...   \n",
       "3  {'taxYear': 1951, 'taxAnnualAmount': 9766, 'id...   \n",
       "4  {'taxYear': 1963, 'taxAnnualAmount': 5945, 'id...   \n",
       "\n",
       "                                               terms virtualTourUrl  \n",
       "0                                       Conventional           None  \n",
       "1                                             FHA,VA           None  \n",
       "2                                           Month-Mo           None  \n",
       "3  Lease/Purchase,Owner May Help/Assist,Purchase ...           None  \n",
       "4           FHA-Va Approved,Fa,Conventional,All Cash           None  \n",
       "\n",
       "[5 rows x 26 columns]"
      ]
     },
     "execution_count": 12,
     "metadata": {},
     "output_type": "execute_result"
    }
   ],
   "source": [
    "#let's see what we got\n",
    "listings"
   ]
  },
  {
   "cell_type": "code",
   "execution_count": 110,
   "metadata": {},
   "outputs": [
    {
     "data": {
      "text/plain": [
       "Index(['address', 'agent', 'agreement', 'association', 'coAgent', 'disclaimer',\n",
       "       'geo', 'leaseTerm', 'leaseType', 'listDate', 'listPrice', 'listingId',\n",
       "       'mls', 'mlsId', 'modified', 'office', 'photos', 'privateRemarks',\n",
       "       'property', 'remarks', 'sales', 'school', 'showingInstructions', 'tax',\n",
       "       'terms', 'virtualTourUrl'],\n",
       "      dtype='object')"
      ]
     },
     "execution_count": 110,
     "metadata": {},
     "output_type": "execute_result"
    }
   ],
   "source": [
    "listings.columns"
   ]
  },
  {
   "cell_type": "code",
   "execution_count": null,
   "metadata": {},
   "outputs": [],
   "source": []
  }
 ],
 "metadata": {
  "kernelspec": {
   "display_name": "Python [conda root]",
   "language": "python",
   "name": "conda-root-py"
  },
  "language_info": {
   "codemirror_mode": {
    "name": "ipython",
    "version": 3
   },
   "file_extension": ".py",
   "mimetype": "text/x-python",
   "name": "python",
   "nbconvert_exporter": "python",
   "pygments_lexer": "ipython3",
   "version": "3.5.4"
  }
 },
 "nbformat": 4,
 "nbformat_minor": 2
}
