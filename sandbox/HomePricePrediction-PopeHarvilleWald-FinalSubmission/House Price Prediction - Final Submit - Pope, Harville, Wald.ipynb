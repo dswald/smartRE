{
 "cells": [
  {
   "cell_type": "markdown",
   "metadata": {},
   "source": [
    "Kaggle Competition: House Prices\n",
    "\n",
    "Project Team: Jason Harville, Dan Wald, Andrea Pope"
   ]
  },
  {
   "cell_type": "markdown",
   "metadata": {},
   "source": [
    "## Prep, Data Load and Cleansing"
   ]
  },
  {
   "cell_type": "code",
   "execution_count": 1,
   "metadata": {
    "collapsed": false
   },
   "outputs": [],
   "source": [
    "# This tells matplotlib not to try opening a new window for each plot.\n",
    "%matplotlib inline\n",
    "\n",
    "# general libraries\n",
    "import matplotlib.pyplot as plt\n",
    "import numpy as np\n",
    "import pandas as pd\n",
    "import seaborn as sns\n",
    "from numpy import *\n",
    "import pickle\n",
    "import math\n",
    "import csv\n",
    "from itertools import izip\n",
    "\n",
    "# functions to clean data and process data throughout, see external .py file\n",
    "from data_funcs import *\n",
    "\n",
    "#sklearn libraries\n",
    "from sklearn.feature_extraction.text import *\n",
    "from sklearn.neural_network import *\n",
    "from sklearn import tree\n",
    "from sklearn.pipeline import Pipeline, FeatureUnion\n",
    "from sklearn.model_selection import GridSearchCV\n",
    "from sklearn.feature_selection import SelectFromModel\n",
    "from sklearn.model_selection import cross_val_predict\n",
    "from sklearn.decomposition import PCA\n",
    "from sklearn.feature_selection import SelectKBest\n",
    "\n",
    "#sklearn regressors\n",
    "from sklearn.linear_model import LinearRegression\n",
    "from sklearn.neighbors import KNeighborsRegressor\n",
    "from sklearn.svm import SVR\n",
    "from sklearn.ensemble import AdaBoostRegressor\n",
    "from sklearn.ensemble import RandomForestRegressor \n",
    "from sklearn.linear_model import LogisticRegression\n",
    "\n",
    "#sklearn classifiers\n",
    "from sklearn.svm import SVC\n",
    "from sklearn.ensemble import AdaBoostClassifier \n",
    "from sklearn.ensemble import RandomForestClassifier \n",
    "from sklearn.tree import DecisionTreeClassifier"
   ]
  },
  {
   "cell_type": "markdown",
   "metadata": {},
   "source": [
    "### UN-PICKLE FROM PREVIOUS RUNS"
   ]
  },
  {
   "cell_type": "code",
   "execution_count": 10,
   "metadata": {
    "collapsed": false
   },
   "outputs": [],
   "source": [
    "# results from previous runs, used to speed execution at different points through (avoid repeating long steps)\n",
    "# code used to produce pickle also included throughout\n",
    "model_results = pickle.load(open( \"./model_results.p\", \"rb\" ) )\n",
    "grid_results = pickle.load(open( \"./grid_results.p\", \"rb\" ) )\n",
    "best_cat_models = pickle.load(open(\"./best_cat_models.p\", \"rb\"))"
   ]
  },
  {
   "cell_type": "markdown",
   "metadata": {},
   "source": [
    "## Data Cleansing and Prep\n",
    "\n",
    "The data available was divided into 3 main types of data:\n",
    "1. Categorical: divided into dummy variables representing each sub-category\n",
    "2. Continuous: numerical data\n",
    "3. Likert scale: ratings converted to numerical scale\n",
    "\n",
    "After the raw processing of each data type, mean normlization was conducted to ensure no feature had undue weight in comparison to another feature.\n",
    "\n",
    "Additionally, 5 features were excluded due to insignificant population or information similar to all variables."
   ]
  },
  {
   "cell_type": "markdown",
   "metadata": {},
   "source": [
    "## Data Import + Data Wrangling"
   ]
  },
  {
   "cell_type": "code",
   "execution_count": 3,
   "metadata": {
    "collapsed": false
   },
   "outputs": [
    {
     "data": {
      "text/plain": [
       "\"\\nThis code is intentionally commented out but included so that the reviewer understands how our team split the data. \\nAll development and evaluation has been performed on the split data included with the submission in the 'data' folder.\\n\\nDO NOT RUN.  If this block of code is executed, it will re-write the new train and dev sets randomly, \\nyeilding non-repeatable results\\n\\nThe code below imports the source file, shuffles, splits and exports the data as two seperate .csv files \\nlocated in ./data folder\\n\""
      ]
     },
     "execution_count": 3,
     "metadata": {},
     "output_type": "execute_result"
    }
   ],
   "source": [
    "'''\n",
    "This code is intentionally commented out but included so that the reviewer understands how our team split the data. \n",
    "All development and evaluation has been performed on the split data included with the submission in the 'data' folder.\n",
    "\n",
    "DO NOT RUN.  If this block of code is executed, it will re-write the new train and dev sets randomly, \n",
    "yeilding non-repeatable results\n",
    "\n",
    "The code below imports the source file, shuffles, splits and exports the data as two seperate .csv files \n",
    "located in ./data folder\n",
    "'''\n",
    "# # importing original training dataset\n",
    "# train_original = pd.read_csv('data/train.csv')\n",
    "# num_examples = len(train_original)\n",
    "\n",
    "# # shuffling indices\n",
    "# shuffle = np.random.permutation(np.arange(num_examples))\n",
    "\n",
    "# # sorting training set by shuffled indices and splitting to training and dev sets\n",
    "# train_shuffled = train_original.iloc[shuffle]\n",
    "# train_split = train_shuffled[num_examples/10:]  \n",
    "# dev_split = train_shuffled[:num_examples/10]\n",
    "\n",
    "# # saving to csv\n",
    "# train_split.to_csv('./data/train_split.csv')\n",
    "# dev_split.to_csv('./data/dev_split.csv')"
   ]
  },
  {
   "cell_type": "code",
   "execution_count": 4,
   "metadata": {
    "collapsed": true
   },
   "outputs": [],
   "source": [
    "# Read the split data\n",
    "\n",
    "train = pd.read_csv('./data/train_split.csv')\n",
    "dev = pd.read_csv('./data/dev_split.csv')"
   ]
  },
  {
   "cell_type": "code",
   "execution_count": 5,
   "metadata": {
    "collapsed": false
   },
   "outputs": [],
   "source": [
    "'''\n",
    "The below code references functions defined in data_funcs.py, included with submission\n",
    "'''\n",
    "\n",
    "# Variables for processing \n",
    "# Leverages early work to identify variable types that are handled seperately in transform_features function\n",
    "normal_cat_features = ['MSZoning','LandContour','LotShape','LotConfig','LandSlope','Neighborhood','BldgType','HouseStyle','RoofStyle','MasVnrType',\n",
    "                       'Foundation','Heating','Electrical','Functional','GarageType','GarageFinish','PavedDrive',\n",
    "                       'Fence','MiscFeature','SaleType','SaleCondition']\n",
    "\n",
    "special_cat_features = ['CentralAir','Condition1','Condition2','Exterior1st','Exterior2nd','BsmtFinType1','BsmtFinType2']\n",
    "\n",
    "used_cat_features = normal_cat_features + special_cat_features\n",
    "\n",
    "drop_features = ['MSSubClass','Street','Alley','Utilities','RoofMatl']\n",
    "drop_dummies = ['MSZoning_C (all)','LotShape_Reg','LotShape_IR1','LotShape_IR2','LotShape_IR3','LotConfig_FR2','LotConfig_FR3']\n",
    "\n",
    "feature_dict = get_train_cat_features(train_data=train, used_cat_features=used_cat_features)\n",
    "\n",
    "likert_features = ['ExterQual','ExterCond','BsmtQual','BsmtCond','BsmtExposure','HeatingQC','KitchenQual',\n",
    "                   'FireplaceQu','GarageQual','GarageCond','PoolQC']\n",
    "\n",
    "# Getting labels and data\n",
    "train_labels = train['SalePrice']\n",
    "dev_labels = dev['SalePrice']\n",
    "\n",
    "# restructure the datasets to keep only variables and not the output\n",
    "keep_columns = [col for col in train.columns if col not in ['Unnamed: 0', 'SalePrice', 'Id']]\n",
    "train_data = train.set_index('Id')[keep_columns]\n",
    "dev_data = dev.set_index('Id')[keep_columns]\n",
    "\n",
    "#transforming features\n",
    "train_data = transform_features(train_data,feature_dict,normal_cat_features,used_cat_features,\n",
    "                                likert_features,drop_dummies,drop_features)\n",
    "dev_data = transform_features(dev_data,feature_dict,normal_cat_features,used_cat_features,\n",
    "                              likert_features,drop_dummies,drop_features)\n",
    "\n",
    "# Mean normalizing\n",
    "features_to_normalize = train_data.columns\n",
    "mn_values = {value: find_mu_std(train_data, value) for value in features_to_normalize}\n",
    "\n",
    "train_data = mean_normalization(train_data, features_to_normalize, mn_values)\n",
    "final_features = train_data.columns\n",
    "dev_data = mean_normalization(dev_data, features_to_normalize, mn_values)"
   ]
  },
  {
   "cell_type": "code",
   "execution_count": 6,
   "metadata": {
    "collapsed": true
   },
   "outputs": [],
   "source": [
    "# Reshape the data\n",
    "# convert to np arrays\n",
    "train_data = np.array(train_data)\n",
    "dev_data = np.array(dev_data)\n",
    "type(train_data)\n",
    "\n",
    "# deal with NaNs (which won't work in regression)\n",
    "where_are_NaNs = isnan(train_data)\n",
    "train_data[where_are_NaNs] = 0\n",
    "\n",
    "where_are_NaNs = isnan(dev_data)\n",
    "dev_data[where_are_NaNs] = 0\n"
   ]
  },
  {
   "cell_type": "markdown",
   "metadata": {},
   "source": [
    "## Execution"
   ]
  },
  {
   "cell_type": "markdown",
   "metadata": {},
   "source": [
    "Notes:\n",
    "Univariate feature selection examines each feature individually to determine the strength of the relationship of the feature with the response variable. These methods are simple to run and understand and are in general particularly good for gaining a better understanding of data (but not necessarily for optimizing the feature set for better generalization). There are lot of different options for univariate selection."
   ]
  },
  {
   "cell_type": "markdown",
   "metadata": {},
   "source": [
    "## Executing Across Different Categorical Thresholds\n",
    "\n",
    "Early threshold and parameter tuning.  The below code obtains the best categories.  Since this is only run once, there is no need to encapsulate as a function\n",
    "\n",
    "The best accuracy in the categorical division does not necessarily drive the best categorization for the final price prediction.\n",
    "For that reason, we'll take an approach that manually goes through various thresholds for splitting the training data, and\n",
    "feature pruning, and matching into categories.\n",
    "We'll run each of those through a separate pipeline (to be optimized) to measure accuracy of the final price prediction. Adjusting parameters in the final model."
   ]
  },
  {
   "cell_type": "code",
   "execution_count": 8,
   "metadata": {
    "collapsed": false
   },
   "outputs": [
    {
     "name": "stdout",
     "output_type": "stream",
     "text": [
      "Category Thresholds:  [350000]\n"
     ]
    }
   ],
   "source": [
    "'''\n",
    "this set of code is determining best way to split data into categories\n",
    "code runs an initial price prediction (to guage success of categories, but this will be enahnced later)\n",
    "\n",
    "NOTE: thresholds used were based on analysis of the original data, and our original baseline results\n",
    "The large set of test thresholds requires significant computing. \n",
    "We ran overnight and pickled the data for future use to prevent the need to re-process\n",
    "The current thresholds selected turned out to be the winning set, so a new user will arrive at the same result without \n",
    "significant processing.\n",
    "\n",
    "In addition t thresholds, other components have also been simplified to make processing easier (to prove code runs).\n",
    "However, the results in the pickle file were against the larger range of components.\n",
    "\n",
    "For data manipulation, we have pickled the data so that this code does not need to be run at all to arrive at conclusions.\n",
    "'''\n",
    "# test_thresholds = [[40000], [80000], [100000],[150000], [200000], [300000], [350000], [400000], [450000],\n",
    "#                  [40000, 300000], [40000,350000], [40000,400000],[80000, 300000], [80000,350000], [80000,400000]]\n",
    "# test_thresholds = [[40000,350000]]\n",
    "\n",
    "# C=[0.1, 0.5, 1, 1.5, 10]\n",
    "# estimators = [100, 500, 1000, 5000]\n",
    "# test_components = [5, 10, 15, 20, 25]\n",
    "test_thresholds = [[350000]]\n",
    "C=[10]\n",
    "estimators = [100]\n",
    "test_components = [10]\n",
    "\n",
    "model_results = []\n",
    "\n",
    "# determine how to break the data into categories\n",
    "for t in test_thresholds:\n",
    "    print 'Category Thresholds: ', t\n",
    "    train_cat_labels = list(categorize_prices(labels=train_labels, thresholds = t))\n",
    "    dev_cat_labels = list(categorize_prices(labels=dev_labels, thresholds = t))\n",
    "    \n",
    "    # L1 to build subset of data (without low value features)\n",
    "    train_subset, dev_subset, nonzero_features = run_logr_l1(train_data, train_cat_labels, dev_data, \n",
    "                                                             final_features)\n",
    "    # further reduction with PCA\n",
    "    # test withh several different # of components\n",
    "    for c in test_components:\n",
    "        if (c < train_subset.shape[1]):\n",
    "            # check we have that many components\n",
    "            train_pca_subset, dev_pca_subset = run_pca(train_subset, dev_subset, components = c)\n",
    "    \n",
    "            #Place into categories using logistics l2\n",
    "            for c1 in C:\n",
    "                train_categories, dev_categories = run_logr_l2(train_pca_subset, train_cat_labels, \n",
    "                                                               dev_pca_subset, c=c1)\n",
    "        \n",
    "                #run Linear Regression on each class defined and calculate overall accuracy\n",
    "                result = run_lr(train_categories, dev_categories, train_pca_subset, train_labels, dev_pca_subset, dev_labels)\n",
    "                model_results.append([t, c, \"logr\", c1, \"lr\", \"\", result])\n",
    "        \n",
    "                for e in estimators:\n",
    "                    result = run_rfr(train_categories, dev_categories, train_data, train_labels, dev_data, \n",
    "                                     dev_labels, estimators = e)\n",
    "                    model_results.append([t, c, \"logr\", c1, \"rfr\", e, result])\n",
    "\n",
    "            # Place into categories using Random Forrest Classifier\n",
    "            for e in estimators:\n",
    "                train_categories, dev_categories = run_rfc(train_pca_subset, train_cat_labels, \n",
    "                                                           dev_pca_subset, estimators=e)\n",
    "        \n",
    "                #run Linear Regression on each class defined and calculate overall accuracy\n",
    "                result = run_lr(train_categories, dev_categories, train_pca_subset, train_labels, dev_pca_subset, dev_labels)\n",
    "                model_results.append([t, c, \"rfc\", e, \"lr\", \"\", result])\n",
    "        \n",
    "                for e2 in estimators:\n",
    "                    result = run_rfr(train_categories, dev_categories, train_data, train_labels, dev_data, \n",
    "                                     dev_labels, estimators = e2)\n",
    "                    model_results.append([t, c, \"rfc\", e, \"rfr\", e2, result])\n",
    "\n",
    "            # Place into categories using adaboost decision tree\n",
    "            for e in estimators:\n",
    "                for lrn_rate in (0.1, 1):\n",
    "                #for lrn_rate in (0.1, 0.5, 1, 1.5):\n",
    "                    train_categories, dev_categories = run_abc(train_pca_subset, train_cat_labels, \n",
    "                                                               dev_pca_subset,\n",
    "                                                               estimators=e, lrn_rate=lrn_rate)\n",
    "                        \n",
    "                    #run Linear Regression on each class defined and calculate overall accuracy\n",
    "                    abc_desc = str(e) + \", \" +  str(lrn_rate) \n",
    "                    result = run_lr(train_categories, dev_categories, train_pca_subset, train_labels, dev_pca_subset, dev_labels)\n",
    "                        \n",
    "                    model_results.append([t, c, \"adc\", abc_desc, \"lr\", \"\", result])\n",
    "        \n",
    "                for e2 in estimators:\n",
    "                    result = run_rfr(train_categories, dev_categories, train_data, train_labels, dev_data, \n",
    "                                     dev_labels, estimators = e2)\n",
    "                    model_results.append([t, c, \"abc\", abc_desc, \"rfr\", e2, result])\n",
    "  "
   ]
  },
  {
   "cell_type": "markdown",
   "metadata": {
    "collapsed": true
   },
   "source": [
    "## The best Categorization breakdown and model to date\n",
    "\n",
    "Best ever result(stoichastic):\n",
    "[[40000, 300000, 'logr', 0.1441778680151591]]"
   ]
  },
  {
   "cell_type": "markdown",
   "metadata": {},
   "source": [
    "**Note** \n",
    "If you run the code above, if you want to see results, similar to our team results (run on the larger data set),\n",
    "you can reload the pickle files."
   ]
  },
  {
   "cell_type": "code",
   "execution_count": 11,
   "metadata": {
    "collapsed": false
   },
   "outputs": [
    {
     "name": "stdout",
     "output_type": "stream",
     "text": [
      "top three models \n",
      "[[[40000, 350000], 10, 'logr', 10, 'lr', '', 0.15368958570482674], [[40000, 350000], 25, 'logr', 1, 'lr', '', 0.15462395642721133], [[40000, 350000], 15, 'adc', '500, 3, 0.1', 'lr', '', 0.15523693930362142]]\n"
     ]
    }
   ],
   "source": [
    "# top 3 classifier model results\n",
    "model_results_sorted = sorted(model_results, key=lambda x: x[6])\n",
    "top_3_models = model_results_sorted[0:3]\n",
    "best_model = model_results_sorted[0]\n",
    "print 'top three models \\n', top_3_models"
   ]
  },
  {
   "cell_type": "markdown",
   "metadata": {},
   "source": [
    "with best results, rerun to break into categories based on threshold, method, and parameter indicatec\n",
    "possibly could run for top 3 best results (or top n)\n",
    "\n",
    "With the data separated into categories, we'll enhance the price prediction"
   ]
  },
  {
   "cell_type": "code",
   "execution_count": 12,
   "metadata": {
    "collapsed": true
   },
   "outputs": [],
   "source": [
    "'''\n",
    "this is to determine best price predictin model per categry\n",
    "the best model for each category then separated to be run against test data\n",
    "split into categories as thresholds defined as best\n",
    "'''\n",
    "#redefine variables\n",
    "t = best_model[0] #threshold\n",
    "c = best_model[1] #PCA components\n",
    "c1 = best_model[3] #L2 regularization\n",
    "grid_results = []\n",
    "\n",
    "train_cat_labels = list(categorize_prices(labels=train_labels, thresholds = t))\n",
    "dev_cat_labels = list(categorize_prices(labels=dev_labels, thresholds = t))\n",
    "\n",
    "#use best method and parameters (above) to divide into categories\n",
    "#L1\n",
    "train_subset, dev_subset, nonzero_features = run_logr_l1(train_data, train_cat_labels, dev_data, final_features)\n",
    "#PCA with components = \n",
    "train_pca_subset, dev_pca_subset = run_pca(train_subset, dev_subset, components = c)\n",
    "#categorize (assume logR for now, could change)\n",
    "train_categories, dev_categories = run_logr_l2(train_pca_subset, train_cat_labels, dev_pca_subset, c=c1)"
   ]
  },
  {
   "cell_type": "markdown",
   "metadata": {},
   "source": [
    "# Regression\n",
    "The following blocks of code run various forms of regression on each category of data, and store the results for later analysis.\n",
    "In each case, we are running a grid search to optimize model parameters."
   ]
  },
  {
   "cell_type": "markdown",
   "metadata": {},
   "source": [
    "### LINEAR REGRESSION"
   ]
  },
  {
   "cell_type": "code",
   "execution_count": 13,
   "metadata": {
    "collapsed": false,
    "scrolled": true
   },
   "outputs": [
    {
     "name": "stderr",
     "output_type": "stream",
     "text": [
      "C:\\Users\\andre\\Anaconda2\\lib\\site-packages\\sklearn\\feature_selection\\univariate_selection.py:113: UserWarning: Features [ 96 105 113 125 133 137 142 154 187] are constant.\n",
      "  UserWarning)\n",
      "C:\\Users\\andre\\Anaconda2\\lib\\site-packages\\sklearn\\feature_selection\\univariate_selection.py:114: RuntimeWarning: divide by zero encountered in divide\n",
      "  f = msb / msw\n",
      "C:\\Users\\andre\\Anaconda2\\lib\\site-packages\\sklearn\\feature_selection\\univariate_selection.py:114: RuntimeWarning: invalid value encountered in divide\n",
      "  f = msb / msw\n",
      "C:\\Users\\andre\\Anaconda2\\lib\\site-packages\\sklearn\\feature_selection\\univariate_selection.py:113: UserWarning: Features [ 96 103 107 113 120 125 133 137 142 148 154 159 167 187] are constant.\n",
      "  UserWarning)\n",
      "C:\\Users\\andre\\Anaconda2\\lib\\site-packages\\sklearn\\feature_selection\\univariate_selection.py:113: UserWarning: Features [ 96 103 105 108 109 113 115 125 133 137 142 154 183 187] are constant.\n",
      "  UserWarning)\n",
      "C:\\Users\\andre\\Anaconda2\\lib\\site-packages\\sklearn\\feature_selection\\univariate_selection.py:113: UserWarning: Features [ 96 105 113 114 115 125 133 137 142 144 145 154 159 171 187] are constant.\n",
      "  UserWarning)\n"
     ]
    },
    {
     "name": "stdout",
     "output_type": "stream",
     "text": [
      "Pipeline(steps=[('features', FeatureUnion(n_jobs=1,\n",
      "       transformer_list=[('pca', PCA(copy=True, iterated_power='auto', n_components=30, random_state=None,\n",
      "  svd_solver='auto', tol=0.0, whiten=False)), ('univ_select', SelectKBest(k=20, score_func=<function f_classif at 0x000000000BBC1F98>))],\n",
      "       transformer_weights=None)), ('lr', LinearRegression(copy_X=True, fit_intercept=True, n_jobs=-1, normalize=False))])\n",
      "0.879443781914\n",
      "{'features__pca__n_components': 30, 'lr__fit_intercept': True, 'features__univ_select__k': 20}\n"
     ]
    },
    {
     "name": "stderr",
     "output_type": "stream",
     "text": [
      "C:\\Users\\andre\\Anaconda2\\lib\\site-packages\\sklearn\\feature_selection\\univariate_selection.py:109: RuntimeWarning: invalid value encountered in divide\n",
      "  msw = sswn / float(dfwn)\n"
     ]
    },
    {
     "name": "stdout",
     "output_type": "stream",
     "text": [
      "Pipeline(steps=[('features', FeatureUnion(n_jobs=1,\n",
      "       transformer_list=[('pca', PCA(copy=True, iterated_power='auto', n_components=15, random_state=None,\n",
      "  svd_solver='auto', tol=0.0, whiten=False)), ('univ_select', SelectKBest(k=10, score_func=<function f_classif at 0x000000000BBC1F98>))],\n",
      "       transformer_weights=None)), ('lr', LinearRegression(copy_X=True, fit_intercept=True, n_jobs=-1, normalize=False))])\n",
      "-0.310546736131\n",
      "{'features__pca__n_components': 15, 'lr__fit_intercept': True, 'features__univ_select__k': 10}\n"
     ]
    }
   ],
   "source": [
    "#build subsets of training and dev based on categories\n",
    "for cat in list(unique(train_categories)):\n",
    "    #print(cat)\n",
    "    #get index of train and dev obs in this category, and separate data\n",
    "    idx = list(np.array(np.where(train_categories == cat))[0])\n",
    "    idx_dev = list(np.array(np.where(dev_categories == cat))[0])\n",
    "    train = train_data.take(idx, axis=0) # axis = 0 provides the reduced components for positive\n",
    "    trn_labels = train_labels.take(idx, axis=0) \n",
    "    dev = dev_data.take(idx_dev, axis=0)  \n",
    "    dv_labels = dev_labels.take(idx_dev, axis=0)\n",
    "    \n",
    "    #for each category, run a gridsearch to determine optimal parameters for price prediction for category\n",
    "    pca = PCA(n_components=2) # PCA to remove demensionality and colinearity\n",
    "    selection = SelectKBest(k=1) # Select some original features where appropriate\n",
    "    combined_features = FeatureUnion([(\"pca\", pca), (\"univ_select\", selection)]) # Build estimator from PCA and Univariate selection:\n",
    "    features = combined_features.fit(train, trn_labels).transform(train) # Use combined features to transform dataset:\n",
    "    \n",
    "    #LR Regression\n",
    "    lr = LinearRegression(fit_intercept=True, n_jobs=-1)\n",
    "\n",
    "    # Do grid search over k, n_components and C:\n",
    "\n",
    "    pipeline = Pipeline([(\"features\", combined_features), (\"lr\", lr)])\n",
    "\n",
    "    param_grid = dict(features__pca__n_components=[10, 15, 20, 25, 30],\n",
    "                      features__univ_select__k=[5, 10, 15, 20],\n",
    "                      lr__fit_intercept=[True, False])\n",
    "\n",
    "    grid_search = GridSearchCV(pipeline, param_grid=param_grid, refit=True)\n",
    "    grid_search.fit(train, trn_labels)\n",
    "    \n",
    "    # summarize the results of the grid search\n",
    "    print(grid_search.best_estimator_)\n",
    "    print(grid_search.best_score_)\n",
    "    print(grid_search.best_params_)\n",
    "\n",
    "    grid_results.append([cat,'lr',grid_search]) # append into an array for post-processing"
   ]
  },
  {
   "cell_type": "markdown",
   "metadata": {},
   "source": [
    "### RANDOM FOREST REGRESSION"
   ]
  },
  {
   "cell_type": "code",
   "execution_count": 14,
   "metadata": {
    "collapsed": false
   },
   "outputs": [
    {
     "name": "stdout",
     "output_type": "stream",
     "text": [
      "Pipeline(steps=[('features', FeatureUnion(n_jobs=1,\n",
      "       transformer_list=[('pca', PCA(copy=True, iterated_power='auto', n_components=10, random_state=None,\n",
      "  svd_solver='auto', tol=0.0, whiten=False)), ('univ_select', SelectKBest(k=20, score_func=<function f_classif at 0x000000000BBC1F98>))],\n",
      "       trans...timators=1000, n_jobs=-1, oob_score=False, random_state=0,\n",
      "           verbose=0, warm_start=False))])\n",
      "0.866877409008\n",
      "{'features__pca__n_components': 10, 'rfr__n_estimators': 1000, 'features__univ_select__k': 20}\n",
      "Pipeline(steps=[('features', FeatureUnion(n_jobs=1,\n",
      "       transformer_list=[('pca', PCA(copy=True, iterated_power='auto', n_components=10, random_state=None,\n",
      "  svd_solver='auto', tol=0.0, whiten=False)), ('univ_select', SelectKBest(k=20, score_func=<function f_classif at 0x000000000BBC1F98>))],\n",
      "       trans...stimators=100, n_jobs=-1, oob_score=False, random_state=0,\n",
      "           verbose=0, warm_start=False))])\n",
      "-0.361159855131\n",
      "{'features__pca__n_components': 10, 'rfr__n_estimators': 100, 'features__univ_select__k': 20}\n"
     ]
    }
   ],
   "source": [
    "#build subsets of training and dev based on categories\n",
    "for cat in list(unique(train_categories)):\n",
    "    #get index of train and dev obs in this category, and separate data\n",
    "    idx = list(np.array(np.where(train_categories == cat))[0])\n",
    "    idx_dev = list(np.array(np.where(dev_categories == cat))[0])\n",
    "    train = train_data.take(idx, axis=0) # axis = 0 provides the reduced components for positive\n",
    "    trn_labels = train_labels.take(idx, axis=0) \n",
    "    dev = dev_data.take(idx_dev, axis=0)  \n",
    "    dv_labels = dev_labels.take(idx_dev, axis=0)\n",
    "    \n",
    "    #for each category, run a gridsearch to determine optimal parameters for price prediction for category\n",
    "    pca = PCA(n_components=2) # PCA to remove demensionality and colinearity\n",
    "    selection = SelectKBest(k=1) # Select some original features where appropriate\n",
    "    combined_features = FeatureUnion([(\"pca\", pca), (\"univ_select\", selection)]) # Build estimator from PCA and Univariate selection:\n",
    "    features = combined_features.fit(train, trn_labels).transform(train) # Use combined features to transform dataset:\n",
    "    \n",
    "    #Random Forest Regression\n",
    "    rfr = RandomForestRegressor(n_estimators=100, random_state=0, n_jobs=-1)\n",
    "\n",
    "    # Do grid search over k, n_components and # of estimators\n",
    "    pipeline = Pipeline([(\"features\", combined_features), (\"rfr\", rfr)])\n",
    "    param_grid = dict(features__pca__n_components=[10, 15, 20, 25, 30],\n",
    "                      features__univ_select__k=[5, 10, 15, 20],\n",
    "                      rfr__n_estimators=[100, 200, 500, 1000])\n",
    "    grid_search = GridSearchCV(pipeline, param_grid=param_grid, refit=True)\n",
    "    grid_search.fit(train, trn_labels)\n",
    "    \n",
    "    # summarize the results of the grid search\n",
    "    print(grid_search.best_estimator_)\n",
    "    print(grid_search.best_score_)\n",
    "    print(grid_search.best_params_)\n",
    "    \n",
    "    grid_results.append([cat,'rfr',grid_search]) # append into an array for post-processing"
   ]
  },
  {
   "cell_type": "markdown",
   "metadata": {},
   "source": [
    "### KNN REGRESSION"
   ]
  },
  {
   "cell_type": "code",
   "execution_count": 15,
   "metadata": {
    "collapsed": false
   },
   "outputs": [
    {
     "name": "stdout",
     "output_type": "stream",
     "text": [
      "Pipeline(steps=[('features', FeatureUnion(n_jobs=1,\n",
      "       transformer_list=[('pca', PCA(copy=True, iterated_power='auto', n_components=10, random_state=None,\n",
      "  svd_solver='auto', tol=0.0, whiten=False)), ('univ_select', SelectKBest(k=1, score_func=<function f_classif at 0x000000000BBC1F98>))],\n",
      "       transformer_weights=None)), ('knn', KNeighborsRegressor(algorithm='auto', leaf_size=30, metric='minkowski',\n",
      "          metric_params=None, n_jobs=-1, n_neighbors=8, p=2,\n",
      "          weights='distance'))])\n",
      "0.812175086608\n",
      "{'features__pca__n_components': 10, 'knn__weights': 'distance', 'knn__n_neighbors': 8, 'knn__p': 2}\n",
      "Pipeline(steps=[('features', FeatureUnion(n_jobs=1,\n",
      "       transformer_list=[('pca', PCA(copy=True, iterated_power='auto', n_components=8, random_state=None,\n",
      "  svd_solver='auto', tol=0.0, whiten=False)), ('univ_select', SelectKBest(k=1, score_func=<function f_classif at 0x000000000BBC1F98>))],\n",
      "       transformer_weights=None)), ('knn', KNeighborsRegressor(algorithm='auto', leaf_size=30, metric='minkowski',\n",
      "          metric_params=None, n_jobs=-1, n_neighbors=2, p=2,\n",
      "          weights='uniform'))])\n",
      "0.0568503762614\n",
      "{'features__pca__n_components': 8, 'knn__weights': 'uniform', 'knn__n_neighbors': 2, 'knn__p': 2}\n"
     ]
    }
   ],
   "source": [
    "for cat in list(unique(train_categories)):\n",
    "    #get index of train and dev obs in this category, and separate data\n",
    "    idx = list(np.array(np.where(train_categories == cat))[0])\n",
    "    idx_dev = list(np.array(np.where(dev_categories == cat))[0])\n",
    "    train = train_data.take(idx, axis=0) # axis = 0 provides the reduced components for positive\n",
    "    trn_labels = train_labels.take(idx, axis=0) \n",
    "    dev = dev_data.take(idx_dev, axis=0)  \n",
    "    dv_labels = dev_labels.take(idx_dev, axis=0)\n",
    "    \n",
    "    #for each category, run a gridsearch to determine optimal parameters for price prediction for category\n",
    "    pca = PCA(n_components=2) # PCA to remove demensionality and colinearity\n",
    "    selection = SelectKBest(k=1) # Select some original features where appropriate\n",
    "    combined_features = FeatureUnion([(\"pca\", pca), (\"univ_select\", selection)]) # Build estimator from PCA and Univariate selection:\n",
    "    features = combined_features.fit(train, trn_labels).transform(train) # Use combined features to transform dataset:\n",
    "    \n",
    "    #KNN Regressor\n",
    "    knn = KNeighborsRegressor(n_neighbors=10, weights='uniform',n_jobs=-1, algorithm='auto')\n",
    "    pipeline = Pipeline([(\"features\", combined_features), (\"knn\", knn)])\n",
    "    param_grid = dict(features__pca__n_components=[2, 4, 6, 8, 10],\n",
    "                      #features__univ_select__k=[5, 10, 15, 20],\n",
    "                      knn__n_neighbors=[2, 4, 6, 8, 10],\n",
    "                      knn__weights=['uniform', 'distance'],\n",
    "                      knn__p=[1,2])\n",
    "    grid_search = GridSearchCV(pipeline, param_grid=param_grid, refit=True)\n",
    "    grid_search.fit(train, trn_labels)\n",
    "\n",
    "    # summarize the results of the grid search\n",
    "    print(grid_search.best_estimator_)\n",
    "    print(grid_search.best_score_)\n",
    "    print(grid_search.best_params_)\n",
    "    \n",
    "    grid_results.append([cat,'knn',grid_search]) # append into an array for post-processing"
   ]
  },
  {
   "cell_type": "markdown",
   "metadata": {},
   "source": [
    "### MULTIPLE LINEAR PERCEPTRON REGRESSION (NEURAL NET)"
   ]
  },
  {
   "cell_type": "code",
   "execution_count": 16,
   "metadata": {
    "collapsed": false
   },
   "outputs": [
    {
     "name": "stdout",
     "output_type": "stream",
     "text": [
      "Pipeline(steps=[('mlp', MLPRegressor(activation='relu', alpha=0.0001, batch_size='auto', beta_1=0.9,\n",
      "       beta_2=0.999, early_stopping=False, epsilon=1e-08,\n",
      "       hidden_layer_sizes=(100,), learning_rate='adaptive',\n",
      "       learning_rate_init=0.001, max_iter=200, momentum=0.9,\n",
      "       nesterovs_momentum=True, power_t=0.5, random_state=None,\n",
      "       shuffle=True, solver='lbfgs', tol=0.0001, validation_fraction=0.1,\n",
      "       verbose=False, warm_start=False))])\n",
      "0.846379913328\n",
      "{'mlp__learning_rate': 'adaptive', 'mlp__alpha': 0.0001}\n",
      "Pipeline(steps=[('mlp', MLPRegressor(activation='relu', alpha=0.1, batch_size='auto', beta_1=0.9,\n",
      "       beta_2=0.999, early_stopping=False, epsilon=1e-08,\n",
      "       hidden_layer_sizes=(100,), learning_rate='adaptive',\n",
      "       learning_rate_init=0.001, max_iter=200, momentum=0.9,\n",
      "       nesterovs_momentum=True, power_t=0.5, random_state=None,\n",
      "       shuffle=True, solver='lbfgs', tol=0.0001, validation_fraction=0.1,\n",
      "       verbose=False, warm_start=False))])\n",
      "-0.735828868865\n",
      "{'mlp__learning_rate': 'adaptive', 'mlp__alpha': 0.1}\n"
     ]
    }
   ],
   "source": [
    "for cat in list(unique(train_categories)):\n",
    "    #get index of train and dev obs in this category, and separate data\n",
    "    idx = list(np.array(np.where(train_categories == cat))[0])\n",
    "    #idx_dev = list(np.array(np.where(dev_categories == cat))[0])\n",
    "    train = train_data.take(idx, axis=0) # axis = 0 provides the reduced components for positive\n",
    "    trn_labels = train_labels.take(idx, axis=0) \n",
    "    #dev = dev_data.take(idx_dev, axis=0)  \n",
    "    #dv_labels = dev_labels.take(idx_dev, axis=0)\n",
    "    \n",
    "    mlp = MLPRegressor(alpha = 0.001, solver='lbfgs', learning_rate = 'constant')\n",
    "    \n",
    "    # Do grid search\n",
    "    pipeline = Pipeline([(\"mlp\", mlp)])\n",
    "    param_grid = dict(mlp__alpha = [0.0001, 0.001, .01, .1], \n",
    "                      mlp__learning_rate = ['constant', 'invscaling', 'adaptive'] )\n",
    "    grid_search = GridSearchCV(pipeline, param_grid=param_grid, refit=True)\n",
    "    grid_search.fit(train, trn_labels)\n",
    "\n",
    "    # summarize the results of the grid search\n",
    "    print(grid_search.best_estimator_)\n",
    "    print(grid_search.best_score_)\n",
    "    print(grid_search.best_params_)\n",
    "    \n",
    "    grid_results.append([cat,'mlp',grid_search]) # append into an array for post-processing"
   ]
  },
  {
   "cell_type": "markdown",
   "metadata": {},
   "source": [
    "### AdaBoost REGRESSION"
   ]
  },
  {
   "cell_type": "code",
   "execution_count": 18,
   "metadata": {
    "collapsed": false
   },
   "outputs": [
    {
     "name": "stdout",
     "output_type": "stream",
     "text": [
      "Pipeline(steps=[('features', FeatureUnion(n_jobs=1,\n",
      "       transformer_list=[('pca', PCA(copy=True, iterated_power='auto', n_components=30, random_state=None,\n",
      "  svd_solver='auto', tol=0.0, whiten=False)), ('univ_select', SelectKBest(k=20, score_func=<function f_classif at 0x000000000BBC1F98>))],\n",
      "       transformer_weights=None)), ('adr', AdaBoostRegressor(base_estimator=None, learning_rate=0.5, loss='exponential',\n",
      "         n_estimators=100, random_state=None))])\n",
      "0.818045971849\n",
      "{'features__pca__n_components': 30, 'adr__learning_rate': 0.5, 'adr__n_estimators': 100, 'adr__loss': 'exponential', 'features__univ_select__k': 20}\n",
      "Pipeline(steps=[('features', FeatureUnion(n_jobs=1,\n",
      "       transformer_list=[('pca', PCA(copy=True, iterated_power='auto', n_components=20, random_state=None,\n",
      "  svd_solver='auto', tol=0.0, whiten=False)), ('univ_select', SelectKBest(k=10, score_func=<function f_classif at 0x000000000BBC1F98>))],\n",
      "       transformer_weights=None)), ('adr', AdaBoostRegressor(base_estimator=None, learning_rate=0.1, loss='exponential',\n",
      "         n_estimators=50, random_state=None))])\n",
      "-0.389022348951\n",
      "{'features__pca__n_components': 20, 'adr__learning_rate': 0.1, 'adr__n_estimators': 50, 'adr__loss': 'exponential', 'features__univ_select__k': 10}\n"
     ]
    }
   ],
   "source": [
    "# AdaBoost Regression\n",
    "for cat in list(unique(train_categories)):\n",
    "    #get index of train and dev obs in this category, and separate data\n",
    "    idx = list(np.array(np.where(train_categories == cat))[0])\n",
    "    train = train_data.take(idx, axis=0) # axis = 0 provides the reduced components for positive\n",
    "    trn_labels = train_labels.take(idx, axis=0) \n",
    "    \n",
    "    #for each category, run a gridsearch to determine optimal parameters for price prediction for category\n",
    "    pca = PCA(n_components=2) # PCA to remove demensionality and colinearity\n",
    "    selection = SelectKBest(k=1) # Select some original features where appropriate\n",
    "    combined_features = FeatureUnion([(\"pca\", pca), (\"univ_select\", selection)]) # Build estimator from PCA and Univariate selection:\n",
    "    features = combined_features.fit(train, trn_labels).transform(train) # Use combined features to transform dataset:\n",
    "    \n",
    "    #adaboost Regression\n",
    "    adr = AdaBoostRegressor(base_estimator=None, n_estimators=50, learning_rate=1.0, loss='linear')\n",
    "    #There is a trade-off between learning_rate and n_estimators\n",
    "    \n",
    "    pipeline = Pipeline([(\"features\", combined_features), (\"adr\", adr)])\n",
    "    param_grid = dict(features__pca__n_components=[10, 15, 20, 25, 30],\n",
    "                      features__univ_select__k=[5, 10, 15, 20],\n",
    "                      adr__n_estimators=[50, 100],\n",
    "                      adr__learning_rate=[.1, .5],\n",
    "                      adr__loss=['linear', 'square', 'exponential'])\n",
    "                      \n",
    "    # subset for rerun\n",
    "    # adr__n_estimators=[50, 100, 150, 200, 500, 1000]  \n",
    "    # adr__learning_rate=[.1, .5, 1, 1.5, 3]\n",
    "    grid_search = GridSearchCV(pipeline, param_grid=param_grid, refit=True)\n",
    "    grid_search.fit(train, trn_labels)\n",
    "\n",
    "    # summarize the results of the grid search\n",
    "    print(grid_search.best_estimator_)\n",
    "    print(grid_search.best_score_)\n",
    "    print(grid_search.best_params_)\n",
    "    \n",
    "    grid_results.append([cat,'adb',grid_search]) # append into an array for post-processing"
   ]
  },
  {
   "cell_type": "markdown",
   "metadata": {},
   "source": [
    "### Support Vector Regression"
   ]
  },
  {
   "cell_type": "code",
   "execution_count": 19,
   "metadata": {
    "collapsed": false
   },
   "outputs": [
    {
     "name": "stdout",
     "output_type": "stream",
     "text": [
      "Pipeline(steps=[('features', FeatureUnion(n_jobs=1,\n",
      "       transformer_list=[('pca', PCA(copy=True, iterated_power='auto', n_components=30, random_state=None,\n",
      "  svd_solver='auto', tol=0.0, whiten=False)), ('univ_select', SelectKBest(k=20, score_func=<function f_classif at 0x000000000BBC1F98>))],\n",
      "       transformer_weights=None)), ('svr', SVR(C=1.0, cache_size=200, coef0=0.0, degree=3, epsilon=0.1, gamma='auto',\n",
      "  kernel='linear', max_iter=-1, shrinking=True, tol=0.001, verbose=False))])\n",
      "0.206734757012\n",
      "{'features__pca__n_components': 30, 'svr__kernel': 'linear', 'svr__degree': 3, 'svr__C': 1.0, 'features__univ_select__k': 20}\n",
      "Pipeline(steps=[('features', FeatureUnion(n_jobs=1,\n",
      "       transformer_list=[('pca', PCA(copy=True, iterated_power='auto', n_components=15, random_state=None,\n",
      "  svd_solver='auto', tol=0.0, whiten=False)), ('univ_select', SelectKBest(k=5, score_func=<function f_classif at 0x000000000BBC1F98>))],\n",
      "       transformer_weights=None)), ('svr', SVR(C=1.0, cache_size=200, coef0=0.0, degree=3, epsilon=0.1, gamma='auto',\n",
      "  kernel='poly', max_iter=-1, shrinking=True, tol=0.001, verbose=False))])\n",
      "-0.0604063151747\n",
      "{'features__pca__n_components': 15, 'svr__kernel': 'poly', 'svr__degree': 3, 'svr__C': 1.0, 'features__univ_select__k': 5}\n"
     ]
    }
   ],
   "source": [
    "# Support Vector Regression\n",
    "for cat in list(unique(train_categories)):\n",
    "    #print(cat)\n",
    "    #get index of train and dev obs in this category, and separate data\n",
    "    idx = list(np.array(np.where(train_categories == cat))[0])\n",
    "    train = train_data.take(idx, axis=0) # axis = 0 provides the reduced components for positive\n",
    "    trn_labels = train_labels.take(idx, axis=0) \n",
    "    \n",
    "    #for each category, run a gridsearch to determine optimal parameters for price prediction for category\n",
    "    pca = PCA(n_components=2) # PCA to remove demensionality and colinearity\n",
    "    selection = SelectKBest(k=1) # Select some original features where appropriate\n",
    "    combined_features = FeatureUnion([(\"pca\", pca), (\"univ_select\", selection)]) # Build estimator from PCA and Univariate selection:\n",
    "    features = combined_features.fit(train, trn_labels).transform(train) # Use combined features to transform dataset:\n",
    "        \n",
    "    #Support Vector Regression\n",
    "    svr = SVR(C=1.0, kernel='rbf', degree=2, gamma='auto')\n",
    "    \n",
    "    # Do grid search over k, n_components and C:\n",
    "    pipeline = Pipeline([(\"features\", combined_features), (\"svr\", svr)])\n",
    "    param_grid = dict(features__pca__n_components=[10, 15, 20, 25, 30],\n",
    "                      features__univ_select__k=[5, 10, 15, 20],\n",
    "                      svr__C=[.1, 1.0],\n",
    "                      svr__kernel=['rbf', 'linear', 'poly', 'sigmoid'],\n",
    "                      svr__degree=[2,3])               \n",
    "    grid_search = GridSearchCV(pipeline, param_grid=param_grid, refit=True)\n",
    "    grid_search.fit(train, trn_labels)\n",
    "    \n",
    "    # summarize the results of the grid search\n",
    "    print(grid_search.best_estimator_)\n",
    "    print(grid_search.best_score_)\n",
    "    print(grid_search.best_params_)\n",
    "    \n",
    "    grid_results.append([cat,'svr',grid_search]) # append into an array for post-processing"
   ]
  },
  {
   "cell_type": "markdown",
   "metadata": {},
   "source": [
    "### PICKLE THE REGRESSION RESULTS FOR POST-PROCESSING AND SHARING "
   ]
  },
  {
   "cell_type": "code",
   "execution_count": 20,
   "metadata": {
    "collapsed": false
   },
   "outputs": [
    {
     "data": {
      "text/plain": [
       "'\\nONLY DO THIS ONCE\\n'"
      ]
     },
     "execution_count": 20,
     "metadata": {},
     "output_type": "execute_result"
    }
   ],
   "source": [
    "'''\n",
    "ONLY DO THIS ONCE\n",
    "'''\n",
    "#pickle.dump(grid_results, open( \"grid_results.p\", \"wb\" ) )"
   ]
  },
  {
   "cell_type": "markdown",
   "metadata": {},
   "source": [
    "### SORT THE MODELS PER CATEGORY"
   ]
  },
  {
   "cell_type": "code",
   "execution_count": 21,
   "metadata": {
    "collapsed": false
   },
   "outputs": [
    {
     "name": "stdout",
     "output_type": "stream",
     "text": [
      "1 1 lr 0.141171962208\n",
      "{'features__pca__n_components': 30, 'lr__fit_intercept': True, 'features__univ_select__k': 20}\n",
      "1 1 rfr 0.151791705895\n",
      "{'features__pca__n_components': 10, 'rfr__n_estimators': 1000, 'features__univ_select__k': 20}\n",
      "1 1 knn 0.248580605918\n",
      "{'features__pca__n_components': 10, 'knn__weights': 'distance', 'knn__n_neighbors': 8, 'knn__p': 2}\n",
      "1 1 mlp 0.183006141584\n",
      "{'mlp__learning_rate': 'adaptive', 'mlp__alpha': 0.0001}\n",
      "1 1 adb 0.175849811972\n",
      "{'features__pca__n_components': 30, 'adr__learning_rate': 0.5, 'adr__n_estimators': 100, 'adr__loss': 'exponential', 'features__univ_select__k': 20}\n",
      "1 1 svr 0.342505527237\n",
      "{'features__pca__n_components': 30, 'svr__kernel': 'linear', 'svr__degree': 3, 'svr__C': 1.0, 'features__univ_select__k': 20}\n",
      "2 2 lr 0.661059910508\n",
      "{'features__pca__n_components': 15, 'lr__fit_intercept': True, 'features__univ_select__k': 10}\n",
      "2 2 rfr 0.13143901443\n",
      "{'features__pca__n_components': 10, 'rfr__n_estimators': 100, 'features__univ_select__k': 20}\n",
      "2 2 knn 0.331717400769\n",
      "{'features__pca__n_components': 8, 'knn__weights': 'uniform', 'knn__n_neighbors': 2, 'knn__p': 2}\n",
      "2 2 mlp 0.42695448298\n",
      "{'mlp__learning_rate': 'adaptive', 'mlp__alpha': 0.1}\n",
      "2 2 adb 1.72214770443\n",
      "{'features__pca__n_components': 20, 'adr__learning_rate': 0.1, 'adr__n_estimators': 50, 'adr__loss': 'exponential', 'features__univ_select__k': 10}\n",
      "2 2 svr 0.327382703579\n",
      "{'features__pca__n_components': 15, 'svr__kernel': 'poly', 'svr__degree': 3, 'svr__C': 1.0, 'features__univ_select__k': 5}\n"
     ]
    },
    {
     "data": {
      "text/plain": [
       "0.14084976459891552"
      ]
     },
     "execution_count": 21,
     "metadata": {},
     "output_type": "execute_result"
    }
   ],
   "source": [
    "'''\n",
    "This code executes the best version of each model for each category\n",
    "\n",
    "Return model per category sorted by RMSLE performance\n",
    "'''\n",
    "best_cat_models = []\n",
    "for cat_num in [1,2]:\n",
    "    category_grid_results = [results for results in grid_results if results[0] == cat_num]\n",
    "    comparison_results = []\n",
    "    for result in category_grid_results:\n",
    "        category = result[0]\n",
    "        model_name = result[1]\n",
    "        best_params = result[2].best_params_\n",
    "\n",
    "        cat_train_data, cat_train_labels, cat_dev_data, cat_dev_labels = build_cat_data(category, model_name, \n",
    "                                                                                        best_params, train_data, dev_data,\n",
    "                                                                                       train_labels, dev_labels,\n",
    "                                                                                        train_categories, dev_categories)\n",
    "\n",
    "        #refit \n",
    "        if model_name == 'lr':\n",
    "            # initializing model with best parameters\n",
    "            model = LinearRegression(fit_intercept = best_params['lr__fit_intercept'])\n",
    "\n",
    "        elif model_name == 'rfr':\n",
    "            model = RandomForestRegressor(n_estimators=best_params['rfr__n_estimators'], random_state=0, n_jobs=-1)\n",
    "\n",
    "        elif model_name == 'mlp':\n",
    "            model = MLPRegressor(alpha = best_params['mlp__alpha'], solver='lbfgs', \n",
    "                                 learning_rate = best_params['mlp__learning_rate'])\n",
    "\n",
    "        elif model_name == 'svr':\n",
    "            model = SVR(C=best_params['svr__C'], kernel=best_params['svr__kernel'], degree=best_params['svr__degree'], gamma='auto')\n",
    "\n",
    "        elif model_name == 'adp':\n",
    "            model = AdaBoostRegressor(base_estimator=None, n_estimators=best_params['adr__n_estimators'], \n",
    "                                      learning_rate=best_params['adr__learning_rate'], loss=best_params['adr__loss'])\n",
    "\n",
    "        elif model_name == 'knn':\n",
    "            model = KNeighborsRegressor(n_neighbors=best_params['knn__n_neighbors'], \n",
    "                                        weights=best_params['knn__weights'], n_jobs=-1, \n",
    "                                        algorithm='auto', p=best_params['knn__p'])\n",
    "\n",
    "        # fitting and scoring model\n",
    "        model.fit(cat_train_data, cat_train_labels)\n",
    "        predictions = model.predict(cat_dev_data)\n",
    "        predictions[predictions < 0] = 0 # cheesy hack\n",
    "        model_score = rmsle(np.array(cat_dev_labels), predictions)\n",
    "        print cat_num, category, model_name, model_score\n",
    "        print best_params\n",
    "        # storing results as a 3-tuple for easy comparison and retrieving the model\n",
    "        comparison_results.append([model_name, model, result[2], model_score, predictions, cat_dev_labels])\n",
    "\n",
    "    best_cat_model = sorted(comparison_results, key=lambda x: x[3])[0]\n",
    "    best_cat_models.append(best_cat_model)\n",
    "\n",
    "pred1 = best_cat_models[0][4]\n",
    "actual1 = best_cat_models[0][5]\n",
    "pred2 = best_cat_models[1][4]\n",
    "actual2 = best_cat_models[1][5]\n",
    "\n",
    "pred = np.append(pred1,pred2)\n",
    "actual = np.append(actual1,actual2)\n",
    "\n",
    "score = rmsle(np.array(actual), pred)\n",
    "score\n"
   ]
  },
  {
   "cell_type": "markdown",
   "metadata": {},
   "source": [
    "## Final results for Dev data\n",
    "Best RMSLE score for dev data: 0.1408\n",
    "\n",
    "This represents approximately 17% improvement in RMSLE score from our base model (0.17)."
   ]
  },
  {
   "cell_type": "code",
   "execution_count": 26,
   "metadata": {
    "collapsed": false
   },
   "outputs": [
    {
     "data": {
      "image/png": "[encoded data removed]",
      "text/plain": [
       "<matplotlib.figure.Figure at 0x126ea908>"
      ]
     },
     "metadata": {},
     "output_type": "display_data"
    }
   ],
   "source": [
    "# plot the predicted vs actuals (similar to our original baseline model)\n",
    "fig, ax = plt.subplots()\n",
    "ax.scatter(actual, pred)\n",
    "ax.plot([dev_labels.min(), dev_labels.max()], [dev_labels.min(), dev_labels.max()], 'k--', lw=4)\n",
    "ax.set_xlabel('Labeled/Given')\n",
    "ax.set_ylabel('Predicted')\n",
    "plt.title(\"Dev Set (feature reduced and mulit-model) - Measured vs. Predicted\")\n",
    "plt.show()"
   ]
  },
  {
   "cell_type": "markdown",
   "metadata": {},
   "source": [
    "Comparing to our baseline model (original chart from baseline file included again below as an image), the chart shows the most improvement at higher priced homes. \n",
    "Low and mid-tier homes has remained fairly consistent, however there is improvement in the clustering/bunching of observations along the line (as desired).\n"
   ]
  },
  {
   "cell_type": "markdown",
   "metadata": {},
   "source": [
    "<img src=\"bslnchart.png\">"
   ]
  },
  {
   "cell_type": "markdown",
   "metadata": {},
   "source": [
    "### PICKLE IT!"
   ]
  },
  {
   "cell_type": "code",
   "execution_count": null,
   "metadata": {
    "collapsed": true
   },
   "outputs": [],
   "source": [
    "#pickle.dump(best_cat_models, open( \"best_cat_models.p\", \"wb\" ) )"
   ]
  },
  {
   "cell_type": "markdown",
   "metadata": {},
   "source": [
    "## PROCESSING TEST DATA\n",
    "\n",
    "Note, test data could have been transformed and categorized along with training and dev originally.\n",
    "Team choose to separate the testing, and run at the end (keeping all of the testing processes together).\n",
    "For our process, this required re-running the optimal models at the end."
   ]
  },
  {
   "cell_type": "code",
   "execution_count": 22,
   "metadata": {
    "collapsed": false
   },
   "outputs": [],
   "source": [
    "# IMPORT and PROCESS TEST DATA\n",
    "\n",
    "# import test data\n",
    "test = pd.read_csv('data/test.csv')\n",
    "\n",
    "# separate out Ids for submitting to Kaggle (similar to a label, but an idenitifier, vs price)\n",
    "test_ids = test['Id']\n",
    "\n",
    "# transform features\n",
    "# follows transformation used for training and dev data\n",
    "# note that is uses variables defined above and functions in the data_funcs.py file\n",
    "\n",
    "\n",
    "# transforming features\n",
    "test_data = test.set_index('Id')[keep_columns]\n",
    "test_data = transform_features(test_data,feature_dict,normal_cat_features,used_cat_features,\n",
    "                                likert_features,drop_dummies,drop_features)\n",
    "\n",
    "\n",
    "# Mean normalizing\n",
    "test_data = mean_normalization(test_data, features_to_normalize, mn_values)\n",
    "\n",
    "# convert to np arrays\n",
    "test_data = np.array(test_data)\n",
    "\n",
    "# deal with NaNs (which won't work in regression)\n",
    "where_are_NaNs = isnan(test_data)\n",
    "test_data[where_are_NaNs] = 0"
   ]
  },
  {
   "cell_type": "code",
   "execution_count": 23,
   "metadata": {
    "collapsed": false
   },
   "outputs": [],
   "source": [
    "# APPLY CATEGORIZATION TO TEST DATA\n",
    "\n",
    "# categorize test data using best models identified\n",
    "t= [350000]         # cat threshold at 350,000\n",
    "pca_comp = 10    # 10 pca components\n",
    "smoothC = 10     # smoothing C at 10\n",
    "\n",
    "# categorize using best models identified\n",
    "train_cat_labels = list(categorize_prices(labels=train_labels, thresholds = t))\n",
    "train_subset, test_subset, nonzero_features = run_logr_l1(train_data, train_cat_labels, test_data, final_features)\n",
    "train_pca_subset, test_pca_subset = run_pca(train_subset, test_subset, components = pca_comp)\n",
    "train_categories, test_categories = run_logr_l2(train_pca_subset, train_cat_labels,test_pca_subset, c=smoothC)\n",
    "\n",
    "\n",
    "# run put 1421 test records under 350000 adn 38 above 350000 (in line with expectations)\n",
    "# len(test_categories[test_categories==0])\n",
    "# len(test_categories[test_categories==1])"
   ]
  },
  {
   "cell_type": "markdown",
   "metadata": {},
   "source": [
    "## APPLY REGRESSION TO TEST DATA"
   ]
  },
  {
   "cell_type": "code",
   "execution_count": 24,
   "metadata": {
    "collapsed": false
   },
   "outputs": [],
   "source": [
    "# APPLY REGRESSION TO TEST DATA\n",
    "testids = []\n",
    "test_predictions = []\n",
    "\n",
    "for category_num in [0,1]:\n",
    "    model = best_cat_models[category_num]\n",
    "    model_name = model[0]\n",
    "    best_params = model[2].best_params_\n",
    "    \n",
    "    # reduce feature set\n",
    "    pca = PCA(n_components=best_params['features__pca__n_components'])\n",
    "        \n",
    "    # Select high value original features\n",
    "    selection = SelectKBest(k=best_params['features__univ_select__k'])\n",
    "        \n",
    "    combined_features = FeatureUnion([(\"pca\", pca), (\"univ_select\", selection)])\n",
    "        \n",
    "    # Use combined features to transform dataset:\n",
    "    sub_features = combined_features.fit(train_data, train_labels)\n",
    "    train_reduced = sub_features.transform(train_data)\n",
    "    test_reduced = sub_features.transform(test_data)\n",
    "\n",
    "    \n",
    "    # separate out category data (1421 and 38 for test data)\n",
    "        \n",
    "    #subset out specific category\n",
    "    cat_train_data, cat_train_labels, cat_test_data, cat_test_ids = build_test_cats(category_num, train_reduced, test_reduced, \n",
    "                                                                      train_labels, test_ids, train_categories, test_categories)\n",
    "\n",
    "    # refit \n",
    "    if model_name == 'lr':\n",
    "        # initializing model with best parameters\n",
    "        model = LinearRegression(fit_intercept = best_params['lr__fit_intercept'])\n",
    "\n",
    "    elif model_name == 'rfr':\n",
    "        model = RandomForestRegressor(n_estimators=best_params['rfr__n_estimators'], random_state=0, n_jobs=-1)\n",
    "    \n",
    "    \n",
    "    model.fit(cat_train_data, cat_train_labels)\n",
    "    predictions = model.predict(cat_test_data)\n",
    "    predictions[predictions < 0] = 0 # hack for predictions less than zero\n",
    "    testids.append(cat_test_ids)\n",
    "    test_predictions.append(predictions)\n",
    "\n",
    "# flatten list of lists\n",
    "test_identifier = [val for sublist in testids for val in sublist]\n",
    "final_predictions = [val for sublist in test_predictions for val in sublist]"
   ]
  },
  {
   "cell_type": "code",
   "execution_count": 25,
   "metadata": {
    "collapsed": false
   },
   "outputs": [],
   "source": [
    "# create csv to send to kaggle\n",
    "with open('mm_predictions_1.csv', 'wb') as f:\n",
    "    writer = csv.writer(f)\n",
    "    writer.writerow(('Id', 'SalePrice'))\n",
    "    writer.writerows(izip(test_identifier, final_predictions))"
   ]
  },
  {
   "cell_type": "code",
   "execution_count": null,
   "metadata": {
    "collapsed": true
   },
   "outputs": [],
   "source": []
  }
 ],
 "metadata": {
  "anaconda-cloud": {},
  "kernelspec": {
   "display_name": "Python 2",
   "language": "python",
   "name": "python2"
  },
  "language_info": {
   "codemirror_mode": {
    "name": "ipython",
    "version": 2
   },
   "file_extension": ".py",
   "mimetype": "text/x-python",
   "name": "python",
   "nbconvert_exporter": "python",
   "pygments_lexer": "ipython2",
   "version": "2.7.13"
  }
 },
 "nbformat": 4,
 "nbformat_minor": 2
}
