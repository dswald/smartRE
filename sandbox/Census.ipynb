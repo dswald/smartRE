{
 "cells": [
  {
   "cell_type": "code",
   "execution_count": 1,
   "metadata": {
    "collapsed": true
   },
   "outputs": [],
   "source": [
    "from census import Census # pip install census\n",
    "from us import states # pip install us\n",
    "import numpy as np\n",
    "import pandas as pd\n",
    "from area import area # pip install area\n",
    "c = Census(\"a9daf6ef81506b3306e32d8bb0d439a4aa98e1f5\")"
   ]
  },
  {
   "cell_type": "code",
   "execution_count": 2,
   "metadata": {
    "collapsed": true
   },
   "outputs": [],
   "source": [
    "# dummy address for test\n",
    "property_address = \"46 Hano St,Boston\""
   ]
  },
  {
   "cell_type": "code",
   "execution_count": 3,
   "metadata": {
    "collapsed": true
   },
   "outputs": [],
   "source": [
    "# assume we can get the zipcode and state from the listing\n",
    "property_zipcode = '02134'\n",
    "property_state = 'MA'"
   ]
  },
  {
   "cell_type": "code",
   "execution_count": 4,
   "metadata": {},
   "outputs": [],
   "source": [
    "# test for zipcode data and state data\n",
    "# c.acs5.zipcode('B01003_001E', zcta = property_zipcode)\n",
    "# c.acs5.state('B25034_010E', states.mapping('abbr','fips')[property_state])"
   ]
  },
  {
   "cell_type": "code",
   "execution_count": 5,
   "metadata": {
    "collapsed": true
   },
   "outputs": [],
   "source": [
    "# list of tables to call\n",
    "# population - B01003_001E\n",
    "# number of households - B11016_001E\n",
    "# households size and type - B11016_001E~016E\n",
    "# households with kids - B09002_001E\n",
    "# tenure - B25003_002E\n",
    "# vacancy - B25002_001E/003E\n",
    "# median age - B01002_001E\n",
    "# race - B02001_001E/002E/003E/005E\n",
    "# median household income - B19013_001E\n",
    "# median monthly housing costs - B25105_001E\n",
    "# property value - B25075_001E~027E, B25077_001E(median for owner-occupied)\n",
    "# median year structure built - B25035_001E\n",
    "# commute time - B08135_001E~010E"
   ]
  },
  {
   "cell_type": "code",
   "execution_count": 6,
   "metadata": {
    "collapsed": true
   },
   "outputs": [],
   "source": [
    "def zipcode_area(state, zipcode):\n",
    "    # geojson files downloaded from https://github.com/OpenDataDE/State-zip-code-GeoJSON\n",
    "    geojson_file = state.lower() + '_' + str(states.lookup(state)).lower() + '_zip_codes_geo.min.json'\n",
    "    boundary = pd.read_json(geojson_file)\n",
    "    for i in range(len(boundary['features'])):\n",
    "        if boundary['features'][i]['properties']['ZCTA5CE10'] == zipcode:\n",
    "            geometry = boundary['features'][i]['geometry']\n",
    "    area_sqmi = area(geometry)/2.59e+6\n",
    "    return (area_sqmi)"
   ]
  },
  {
   "cell_type": "code",
   "execution_count": null,
   "metadata": {
    "scrolled": true
   },
   "outputs": [],
   "source": [
    "def ACS_zipcode_data(zipcode):\n",
    "    population = c.acs5.zipcode('B01003_001E', zcta = property_zipcode)[0]['B01003_001E']\n",
    "    household = c.acs5.zipcode('B11016_001E', zcta = property_zipcode)[0]['B11016_001E']\n",
    "    area = zipcode_area(property_state, property_zipcode)\n",
    "    pop_density = population / area\n",
    "    HH_density = household / area\n",
    "    # households size and type\n",
    "    Family = c.acs5.zipcode('B11016_002E', zcta = property_zipcode)[0]['B11016_002E'] / household # get percentage for family households\n",
    "    HH2 = [c.acs5.zipcode(table, zcta = property_zipcode)[0][table] for table in ['B11016_003E', 'B11016_010E', 'B11016_011E']]\n",
    "    HH2 = sum(HH2) / household # get percentage for HH with no more than 2-person\n",
    "    HH3 = [c.acs5.zipcode(table, zcta = property_zipcode)[0][table] for table in ['B11016_004E', 'B11016_012E']]\n",
    "    HH3 = sum(HH3) / household # get percentage for HH with 3-person\n",
    "    HH4 = [c.acs5.zipcode(table, zcta = property_zipcode)[0][table] for table in ['B11016_005E', 'B11016_006E', 'B11016_007E', 'B11016_008E', 'B11016_013E', 'B11016_014E', 'B11016_015E', 'B11016_016E']]\n",
    "    HH4 = sum(HH4) / household # get percentage for HH with no less than 4-person\n",
    "    HH_Kids = c.acs5.zipcode('B09002_001E', zcta = property_zipcode)[0]['B09002_001E'] / household # get percentage for households with kids\n",
    "    # tenure\n",
    "    Owner = c.acs5.zipcode('B25003_002E', zcta = property_zipcode)[0]['B25003_002E'] / household # get percentage for owner-occupied households\n",
    "    # vacancy\n",
    "    Vacancy = c.acs5.zipcode('B25002_003E', zcta = property_zipcode)[0]['B25002_003E'] / c.acs5.zipcode('B25002_001E', zcta = property_zipcode)[0]['B25002_001E'] # get percentage for vacant properties\n",
    "    # age\n",
    "    Age = c.acs5.zipcode('B01002_001E', zcta = property_zipcode)[0]['B01002_001E']\n",
    "    # race\n",
    "    Race_W = c.acs5.zipcode('B02001_002E', zcta = property_zipcode)[0]['B02001_002E'] / population # get percentage for white alone\n",
    "    Race_B = c.acs5.zipcode('B02001_003E', zcta = property_zipcode)[0]['B02001_003E'] / population # get percentage for black or african american alone\n",
    "    Race_A = c.acs5.zipcode('B02001_005E', zcta = property_zipcode)[0]['B02001_005E'] / population # get percentage for asian alone\n",
    "    # median household income\n",
    "    Income = c.acs5.zipcode('B19013_001E', zcta = property_zipcode)[0]['B19013_001E']\n",
    "    # median monthly housing costs\n",
    "    Cost = c.acs5.zipcode('B25105_001E', zcta = property_zipcode)[0]['B25105_001E']\n",
    "    # median property value\n",
    "    Value = c.acs5.zipcode('B25077_001E', zcta = property_zipcode)[0]['B25077_001E']\n",
    "    # median year structure built\n",
    "    Year_Built = c.acs5.zipcode('B25035_001E', zcta = property_zipcode)[0]['B25035_001E']\n",
    "    # average commute time\n",
    "    C10 = c.acs5.zipcode('B08135_002E', zcta = property_zipcode)[0]['B08135_002E'] # less than 10min\n",
    "    C20 = c.acs5.zipcode('B08135_003E', zcta = property_zipcode)[0]['B08135_003E'] + c.acs5.zipcode('B08135_004E', zcta = property_zipcode)[0]['B08135_004E'] # 10 - 20 min\n",
    "    C30 = c.acs5.zipcode('B08135_005E', zcta = property_zipcode)[0]['B08135_005E'] + c.acs5.zipcode('B08135_006E', zcta = property_zipcode)[0]['B08135_006E'] # 20 - 30 min\n",
    "    C45 = c.acs5.zipcode('B08135_007E', zcta = property_zipcode)[0]['B08135_007E'] + c.acs5.zipcode('B08135_008E', zcta = property_zipcode)[0]['B08135_008E'] # 30 - 45 min\n",
    "    C60 = c.acs5.zipcode('B08135_009E', zcta = property_zipcode)[0]['B08135_009E'] + c.acs5.zipcode('B08135_010E', zcta = property_zipcode)[0]['B08135_010E'] # 45+ min\n",
    "    Commute = [10] * int(C10) + [20] * int(C20) + [30] * int(C30) + [45] * int(C45) + [60] * int(C60)\n",
    "    Commute = np.median(Commute)\n",
    "    \n",
    "    return [zipcode, pop_density, HH_density, Family, HH2, HH3, HH4, HH_Kids, Owner, Vacancy, Age, \n",
    "            Race_W, Race_B, Race_A, Income, Cost, Value, Year_Built, Commute]"
   ]
  },
  {
   "cell_type": "code",
   "execution_count": null,
   "metadata": {},
   "outputs": [],
   "source": [
    "print (ACS_zipcode_data(property_zipcode))"
   ]
  },
  {
   "cell_type": "code",
   "execution_count": null,
   "metadata": {
    "collapsed": true
   },
   "outputs": [],
   "source": []
  }
 ],
 "metadata": {
  "kernelspec": {
   "display_name": "Python 3",
   "language": "python",
   "name": "python3"
  },
  "language_info": {
   "codemirror_mode": {
    "name": "ipython",
    "version": 3
   },
   "file_extension": ".py",
   "mimetype": "text/x-python",
   "name": "python",
   "nbconvert_exporter": "python",
   "pygments_lexer": "ipython3",
   "version": "3.5.2"
  }
 },
 "nbformat": 4,
 "nbformat_minor": 2
}
