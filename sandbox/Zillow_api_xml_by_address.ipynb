{
 "cells": [
  {
   "cell_type": "code",
   "execution_count": 1,
   "metadata": {},
   "outputs": [],
   "source": [
    "ZWSID = 'X1-ZWz18jn16i1gqz_a9fju'"
   ]
  },
  {
   "cell_type": "code",
   "execution_count": 3,
   "metadata": {},
   "outputs": [],
   "source": [
    "import json\n",
    "import requests\n",
    "import pandas as pd\n",
    "import xml.etree.ElementTree as ET\n",
    "from pprint import pprint"
   ]
  },
  {
   "cell_type": "code",
   "execution_count": 4,
   "metadata": {},
   "outputs": [],
   "source": [
    "#sample data uses zillow api default authentication.  Need to pay to get custom auth + real access\n",
    "response = requests.get('http://www.zillow.com/webservice/GetSearchResults.htm?zws-id='+ZWSID+\n",
    "                        '&address=2114+Bigelow+Ave&citystatezip=Seattle%2C+WA')"
   ]
  },
  {
   "cell_type": "code",
   "execution_count": 5,
   "metadata": {},
   "outputs": [
    {
     "data": {
      "text/plain": [
       "b'<?xml version=\"1.0\" encoding=\"utf-8\"?><SearchResults:searchresults xsi:schemaLocation=\"http://www.zillow.com/static/xsd/SearchResults.xsd https://www.zillowstatic.com/vstatic/b20c067/static/xsd/SearchResults.xsd\" xmlns:xsi=\"http://www.w3.org/2001/XMLSchema-instance\" xmlns:SearchResults=\"http://www.zillow.com/static/xsd/SearchResults.xsd\"><request><address>2114 Bigelow Ave</address><citystatezip>Seattle, WA</citystatezip></request><message><text>Request successfully processed</text><code>0</code></message><response><results><result><zpid>48749425</zpid><links><homedetails>https://www.zillow.com/homedetails/2114-Bigelow-Ave-N-Seattle-WA-98109/48749425_zpid/</homedetails><graphsanddata>http://www.zillow.com/homedetails/2114-Bigelow-Ave-N-Seattle-WA-98109/48749425_zpid/#charts-and-data</graphsanddata><mapthishome>http://www.zillow.com/homes/48749425_zpid/</mapthishome><comparables>http://www.zillow.com/homes/comps/48749425_zpid/</comparables></links><address><street>2114 Bigelow Ave N</street><zipcode>98109</zipcode><city>SEATTLE</city><state>WA</state><latitude>47.637934</latitude><longitude>-122.347936</longitude></address><zestimate><amount currency=\"USD\">2159737</amount><last-updated>06/05/2018</last-updated><oneWeekChange deprecated=\"true\"></oneWeekChange><valueChange duration=\"30\" currency=\"USD\">43132</valueChange><valuationRange><low currency=\"USD\">2051750</low><high currency=\"USD\">2267724</high></valuationRange><percentile>0</percentile></zestimate><localRealEstate><region name=\"East Queen Anne\" id=\"271856\" type=\"neighborhood\"><zindexValue>821,600</zindexValue><links><overview>http://www.zillow.com/local-info/WA-Seattle/East-Queen-Anne/r_271856/</overview><forSaleByOwner>http://www.zillow.com/east-queen-anne-seattle-wa/fsbo/</forSaleByOwner><forSale>http://www.zillow.com/east-queen-anne-seattle-wa/</forSale></links></region></localRealEstate></result></results></response></SearchResults:searchresults><!-- H:046  T:100ms  S:869  R:Tue Jun 05 23:20:52 PDT 2018  B:5.0.54086.0-hotfix_NC-4689.83b13c1~hotfix-pre-2018-05-29.1bfd764 -->'"
      ]
     },
     "execution_count": 5,
     "metadata": {},
     "output_type": "execute_result"
    }
   ],
   "source": [
    "response.content"
   ]
  },
  {
   "cell_type": "code",
   "execution_count": 6,
   "metadata": {},
   "outputs": [
    {
     "name": "stdout",
     "output_type": "stream",
     "text": [
      "('<?xml version=\"1.0\" encoding=\"utf-8\"?><SearchResults:searchresults '\n",
      " 'xsi:schemaLocation=\"http://www.zillow.com/static/xsd/SearchResults.xsd '\n",
      " 'https://www.zillowstatic.com/vstatic/b20c067/static/xsd/SearchResults.xsd\" '\n",
      " 'xmlns:xsi=\"http://www.w3.org/2001/XMLSchema-instance\" '\n",
      " 'xmlns:SearchResults=\"http://www.zillow.com/static/xsd/SearchResults.xsd\"><request><address>2114 '\n",
      " 'Bigelow Ave</address><citystatezip>Seattle, '\n",
      " 'WA</citystatezip></request><message><text>Request successfully '\n",
      " 'processed</text><code>0</code></message><response><results><result><zpid>48749425</zpid><links><homedetails>https://www.zillow.com/homedetails/2114-Bigelow-Ave-N-Seattle-WA-98109/48749425_zpid/</homedetails><graphsanddata>http://www.zillow.com/homedetails/2114-Bigelow-Ave-N-Seattle-WA-98109/48749425_zpid/#charts-and-data</graphsanddata><mapthishome>http://www.zillow.com/homes/48749425_zpid/</mapthishome><comparables>http://www.zillow.com/homes/comps/48749425_zpid/</comparables></links><address><street>2114 '\n",
      " 'Bigelow Ave '\n",
      " 'N</street><zipcode>98109</zipcode><city>SEATTLE</city><state>WA</state><latitude>47.637934</latitude><longitude>-122.347936</longitude></address><zestimate><amount '\n",
      " 'currency=\"USD\">2159737</amount><last-updated>06/05/2018</last-updated><oneWeekChange '\n",
      " 'deprecated=\"true\"></oneWeekChange><valueChange duration=\"30\" '\n",
      " 'currency=\"USD\">43132</valueChange><valuationRange><low '\n",
      " 'currency=\"USD\">2051750</low><high '\n",
      " 'currency=\"USD\">2267724</high></valuationRange><percentile>0</percentile></zestimate><localRealEstate><region '\n",
      " 'name=\"East Queen Anne\" id=\"271856\" '\n",
      " 'type=\"neighborhood\"><zindexValue>821,600</zindexValue><links><overview>http://www.zillow.com/local-info/WA-Seattle/East-Queen-Anne/r_271856/</overview><forSaleByOwner>http://www.zillow.com/east-queen-anne-seattle-wa/fsbo/</forSaleByOwner><forSale>http://www.zillow.com/east-queen-anne-seattle-wa/</forSale></links></region></localRealEstate></result></results></response></SearchResults:searchresults><!-- '\n",
      " 'H:046  T:100ms  S:869  R:Tue Jun 05 23:20:52 PDT 2018  '\n",
      " 'B:5.0.54086.0-hotfix_NC-4689.83b13c1~hotfix-pre-2018-05-29.1bfd764 -->')\n"
     ]
    }
   ],
   "source": [
    "pprint (response.content.decode(response.encoding))"
   ]
  },
  {
   "cell_type": "code",
   "execution_count": null,
   "metadata": {},
   "outputs": [],
   "source": []
  },
  {
   "cell_type": "code",
   "execution_count": null,
   "metadata": {},
   "outputs": [],
   "source": []
  }
 ],
 "metadata": {
  "kernelspec": {
   "display_name": "Python [conda root]",
   "language": "python",
   "name": "conda-root-py"
  },
  "language_info": {
   "codemirror_mode": {
    "name": "ipython",
    "version": 3
   },
   "file_extension": ".py",
   "mimetype": "text/x-python",
   "name": "python",
   "nbconvert_exporter": "python",
   "pygments_lexer": "ipython3",
   "version": "3.5.4"
  }
 },
 "nbformat": 4,
 "nbformat_minor": 2
}
