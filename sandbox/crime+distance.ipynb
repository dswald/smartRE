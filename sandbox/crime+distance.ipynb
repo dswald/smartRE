{
 "cells": [
  {
   "cell_type": "code",
   "execution_count": 1,
   "metadata": {},
   "outputs": [],
   "source": [
    "import numpy as np\n",
    "import pandas as pd\n",
    "import matplotlib.pyplot as plt\n",
    "\n",
    "#sklearn libraries\n",
    "from sklearn import preprocessing\n",
    "from sklearn.linear_model import LinearRegression\n",
    "from sklearn.model_selection import train_test_split\n",
    "from sklearn.model_selection import cross_val_predict\n",
    "\n",
    "from catboost import Pool, CatBoostRegressor # pip install catboost\n",
    "\n",
    "import json\n",
    "import math\n",
    "from tqdm import tqdm"
   ]
  },
  {
   "cell_type": "code",
   "execution_count": 2,
   "metadata": {},
   "outputs": [],
   "source": [
    "#haversine formula is simpliest distance between two lat/lon.  Assumes no elevation changes\n",
    "def distance(lat1,lon1,lat2,lon2):\n",
    "    #lon1,lat1=coord1 #for reference only\n",
    "    #lon2,lat2=coord2 #for reference only\n",
    "\n",
    "    R = 6371000                               # radius of Earth in meters\n",
    "    phi_1 = math.radians(lat1)\n",
    "    phi_2 = math.radians(lat2)\n",
    "\n",
    "    delta_phi = math.radians(lat2-lat1)\n",
    "    delta_lambda = math.radians(lon2-lon1)\n",
    "\n",
    "    a = math.sin(delta_phi/2.0)**2+\\\n",
    "        math.cos(phi_1)*math.cos(phi_2)*\\\n",
    "        math.sin(delta_lambda/2.0)**2\n",
    "    c = 2*math.atan2(math.sqrt(a),math.sqrt(1-a))\n",
    "\n",
    "    meters = R*c                         # output distance in meters\n",
    "    km = meters/1000.0              # output distance in kilometers\n",
    "    miles = meters*0.000621371      # output distance in miles\n",
    "    feet = miles*5280               # output distance in feet\n",
    "    \n",
    "    return round(miles,2)"
   ]
  },
  {
   "cell_type": "code",
   "execution_count": 3,
   "metadata": {},
   "outputs": [],
   "source": [
    "crime = pd.read_csv(\"Crime_Data_2016.csv\")"
   ]
  },
  {
   "cell_type": "code",
   "execution_count": 4,
   "metadata": {},
   "outputs": [
    {
     "data": {
      "text/html": [
       "<div>\n",
       "<style>\n",
       "    .dataframe thead tr:only-child th {\n",
       "        text-align: right;\n",
       "    }\n",
       "\n",
       "    .dataframe thead th {\n",
       "        text-align: left;\n",
       "    }\n",
       "\n",
       "    .dataframe tbody tr th {\n",
       "        vertical-align: top;\n",
       "    }\n",
       "</style>\n",
       "<table border=\"1\" class=\"dataframe\">\n",
       "  <thead>\n",
       "    <tr style=\"text-align: right;\">\n",
       "      <th></th>\n",
       "      <th>DR Number</th>\n",
       "      <th>Date Reported</th>\n",
       "      <th>Date Occurred</th>\n",
       "      <th>Time Occurred</th>\n",
       "      <th>Area ID</th>\n",
       "      <th>Area Name</th>\n",
       "      <th>Reporting District</th>\n",
       "      <th>Crime Code</th>\n",
       "      <th>Crime Code Description</th>\n",
       "      <th>MO Codes</th>\n",
       "      <th>...</th>\n",
       "      <th>Weapon Description</th>\n",
       "      <th>Status Code</th>\n",
       "      <th>Status Description</th>\n",
       "      <th>Crime Code 1</th>\n",
       "      <th>Crime Code 2</th>\n",
       "      <th>Crime Code 3</th>\n",
       "      <th>Crime Code 4</th>\n",
       "      <th>Address</th>\n",
       "      <th>Cross Street</th>\n",
       "      <th>Location</th>\n",
       "    </tr>\n",
       "  </thead>\n",
       "  <tbody>\n",
       "    <tr>\n",
       "      <th>0</th>\n",
       "      <td>161804051</td>\n",
       "      <td>01/02/2016</td>\n",
       "      <td>01/02/2016</td>\n",
       "      <td>1325</td>\n",
       "      <td>18</td>\n",
       "      <td>Southeast</td>\n",
       "      <td>1804</td>\n",
       "      <td>310</td>\n",
       "      <td>BURGLARY</td>\n",
       "      <td>0344</td>\n",
       "      <td>...</td>\n",
       "      <td>NaN</td>\n",
       "      <td>AA</td>\n",
       "      <td>Adult Arrest</td>\n",
       "      <td>310</td>\n",
       "      <td>NaN</td>\n",
       "      <td>NaN</td>\n",
       "      <td>NaN</td>\n",
       "      <td>MCKINLEY</td>\n",
       "      <td>MANCHESTER                   AV</td>\n",
       "      <td>(33.9602, -118.261)</td>\n",
       "    </tr>\n",
       "    <tr>\n",
       "      <th>1</th>\n",
       "      <td>161704085</td>\n",
       "      <td>01/02/2016</td>\n",
       "      <td>01/02/2016</td>\n",
       "      <td>1400</td>\n",
       "      <td>17</td>\n",
       "      <td>Devonshire</td>\n",
       "      <td>1764</td>\n",
       "      <td>442</td>\n",
       "      <td>SHOPLIFTING - PETTY THEFT ($950 &amp; UNDER)</td>\n",
       "      <td>0325</td>\n",
       "      <td>...</td>\n",
       "      <td>NaN</td>\n",
       "      <td>JA</td>\n",
       "      <td>Juv Arrest</td>\n",
       "      <td>442</td>\n",
       "      <td>NaN</td>\n",
       "      <td>NaN</td>\n",
       "      <td>NaN</td>\n",
       "      <td>9300    TAMPA                        AV</td>\n",
       "      <td>NaN</td>\n",
       "      <td>(34.244, -118.5583)</td>\n",
       "    </tr>\n",
       "    <tr>\n",
       "      <th>2</th>\n",
       "      <td>161304073</td>\n",
       "      <td>01/02/2016</td>\n",
       "      <td>01/01/2016</td>\n",
       "      <td>2330</td>\n",
       "      <td>13</td>\n",
       "      <td>Newton</td>\n",
       "      <td>1322</td>\n",
       "      <td>210</td>\n",
       "      <td>ROBBERY</td>\n",
       "      <td>0326 1309 0302 0334 0916 1311 0330 0305 0355 0344</td>\n",
       "      <td>...</td>\n",
       "      <td>SEMI-AUTOMATIC PISTOL</td>\n",
       "      <td>AA</td>\n",
       "      <td>Adult Arrest</td>\n",
       "      <td>210</td>\n",
       "      <td>NaN</td>\n",
       "      <td>NaN</td>\n",
       "      <td>NaN</td>\n",
       "      <td>2400    TRINITY                      ST</td>\n",
       "      <td>NaN</td>\n",
       "      <td>(34.0242, -118.2623)</td>\n",
       "    </tr>\n",
       "    <tr>\n",
       "      <th>3</th>\n",
       "      <td>161504099</td>\n",
       "      <td>01/02/2016</td>\n",
       "      <td>01/02/2016</td>\n",
       "      <td>1145</td>\n",
       "      <td>15</td>\n",
       "      <td>N Hollywood</td>\n",
       "      <td>1514</td>\n",
       "      <td>310</td>\n",
       "      <td>BURGLARY</td>\n",
       "      <td>1607 0344 0352 1402 0321 0216 1221 1403 1420</td>\n",
       "      <td>...</td>\n",
       "      <td>NaN</td>\n",
       "      <td>AO</td>\n",
       "      <td>Adult Other</td>\n",
       "      <td>310</td>\n",
       "      <td>998.0</td>\n",
       "      <td>NaN</td>\n",
       "      <td>NaN</td>\n",
       "      <td>12000    VANOWEN                      ST</td>\n",
       "      <td>NaN</td>\n",
       "      <td>(34.194, -118.3943)</td>\n",
       "    </tr>\n",
       "    <tr>\n",
       "      <th>4</th>\n",
       "      <td>161504055</td>\n",
       "      <td>01/02/2016</td>\n",
       "      <td>12/31/2015</td>\n",
       "      <td>1935</td>\n",
       "      <td>15</td>\n",
       "      <td>N Hollywood</td>\n",
       "      <td>1522</td>\n",
       "      <td>649</td>\n",
       "      <td>DOCUMENT FORGERY / STOLEN FELONY</td>\n",
       "      <td>0100 1402</td>\n",
       "      <td>...</td>\n",
       "      <td>NaN</td>\n",
       "      <td>AA</td>\n",
       "      <td>Adult Arrest</td>\n",
       "      <td>649</td>\n",
       "      <td>NaN</td>\n",
       "      <td>NaN</td>\n",
       "      <td>NaN</td>\n",
       "      <td>13000    VICTORY                      BL</td>\n",
       "      <td>NaN</td>\n",
       "      <td>(34.1936, -118.4166)</td>\n",
       "    </tr>\n",
       "  </tbody>\n",
       "</table>\n",
       "<p>5 rows × 26 columns</p>\n",
       "</div>"
      ],
      "text/plain": [
       "   DR Number Date Reported Date Occurred  Time Occurred  Area ID    Area Name  \\\n",
       "0  161804051    01/02/2016    01/02/2016           1325       18    Southeast   \n",
       "1  161704085    01/02/2016    01/02/2016           1400       17   Devonshire   \n",
       "2  161304073    01/02/2016    01/01/2016           2330       13       Newton   \n",
       "3  161504099    01/02/2016    01/02/2016           1145       15  N Hollywood   \n",
       "4  161504055    01/02/2016    12/31/2015           1935       15  N Hollywood   \n",
       "\n",
       "   Reporting District  Crime Code                    Crime Code Description  \\\n",
       "0                1804         310                                  BURGLARY   \n",
       "1                1764         442  SHOPLIFTING - PETTY THEFT ($950 & UNDER)   \n",
       "2                1322         210                                   ROBBERY   \n",
       "3                1514         310                                  BURGLARY   \n",
       "4                1522         649          DOCUMENT FORGERY / STOLEN FELONY   \n",
       "\n",
       "                                            MO Codes          ...           \\\n",
       "0                                               0344          ...            \n",
       "1                                               0325          ...            \n",
       "2  0326 1309 0302 0334 0916 1311 0330 0305 0355 0344          ...            \n",
       "3       1607 0344 0352 1402 0321 0216 1221 1403 1420          ...            \n",
       "4                                          0100 1402          ...            \n",
       "\n",
       "      Weapon Description Status Code Status Description  Crime Code 1  \\\n",
       "0                    NaN          AA       Adult Arrest           310   \n",
       "1                    NaN          JA         Juv Arrest           442   \n",
       "2  SEMI-AUTOMATIC PISTOL          AA       Adult Arrest           210   \n",
       "3                    NaN          AO        Adult Other           310   \n",
       "4                    NaN          AA       Adult Arrest           649   \n",
       "\n",
       "  Crime Code 2  Crime Code 3 Crime Code 4  \\\n",
       "0          NaN           NaN          NaN   \n",
       "1          NaN           NaN          NaN   \n",
       "2          NaN           NaN          NaN   \n",
       "3        998.0           NaN          NaN   \n",
       "4          NaN           NaN          NaN   \n",
       "\n",
       "                                    Address                     Cross Street  \\\n",
       "0                                  MCKINLEY  MANCHESTER                   AV   \n",
       "1   9300    TAMPA                        AV                              NaN   \n",
       "2   2400    TRINITY                      ST                              NaN   \n",
       "3  12000    VANOWEN                      ST                              NaN   \n",
       "4  13000    VICTORY                      BL                              NaN   \n",
       "\n",
       "              Location   \n",
       "0   (33.9602, -118.261)  \n",
       "1   (34.244, -118.5583)  \n",
       "2  (34.0242, -118.2623)  \n",
       "3   (34.194, -118.3943)  \n",
       "4  (34.1936, -118.4166)  \n",
       "\n",
       "[5 rows x 26 columns]"
      ]
     },
     "execution_count": 4,
     "metadata": {},
     "output_type": "execute_result"
    }
   ],
   "source": [
    "crime.head()"
   ]
  },
  {
   "cell_type": "code",
   "execution_count": 5,
   "metadata": {},
   "outputs": [
    {
     "data": {
      "text/plain": [
       "Index(['DR Number', 'Date Reported', 'Date Occurred', 'Time Occurred',\n",
       "       'Area ID', 'Area Name', 'Reporting District', 'Crime Code',\n",
       "       'Crime Code Description', 'MO Codes', 'Victim Age', 'Victim Sex',\n",
       "       'Victim Descent', 'Premise Code', 'Premise Description',\n",
       "       'Weapon Used Code', 'Weapon Description', 'Status Code',\n",
       "       'Status Description', 'Crime Code 1', 'Crime Code 2', 'Crime Code 3',\n",
       "       'Crime Code 4', 'Address', 'Cross Street', 'Location '],\n",
       "      dtype='object')"
      ]
     },
     "execution_count": 5,
     "metadata": {},
     "output_type": "execute_result"
    }
   ],
   "source": [
    "crime.columns"
   ]
  },
  {
   "cell_type": "code",
   "execution_count": 6,
   "metadata": {},
   "outputs": [
    {
     "data": {
      "text/plain": [
       "'(33.9602, -118.261)'"
      ]
     },
     "execution_count": 6,
     "metadata": {},
     "output_type": "execute_result"
    }
   ],
   "source": [
    "crime['Location '][0]"
   ]
  },
  {
   "cell_type": "markdown",
   "metadata": {},
   "source": [
    "### Transform lat/lon\n",
    "Only run this code once"
   ]
  },
  {
   "cell_type": "code",
   "execution_count": 7,
   "metadata": {},
   "outputs": [],
   "source": [
    "# ONLY RUN THIS ONCE\n",
    "crime['lat'], crime['lon'] = crime['Location '].str.split(',', 1).str\n",
    "crime['lat'] = crime['lat'].map(lambda x: str(x)[1:])\n",
    "crime['lon'] = crime['lon'].map(lambda x: str(x)[:-1])"
   ]
  },
  {
   "cell_type": "code",
   "execution_count": 8,
   "metadata": {},
   "outputs": [],
   "source": [
    "crime.lat = crime.lat.astype('float64')\n",
    "crime.lon = crime.lon.astype('float64')"
   ]
  },
  {
   "cell_type": "code",
   "execution_count": 9,
   "metadata": {},
   "outputs": [
    {
     "name": "stdout",
     "output_type": "stream",
     "text": [
      "0    33.9602\n",
      "1    34.2440\n",
      "2    34.0242\n",
      "3    34.1940\n",
      "4    34.1936\n",
      "Name: lat, dtype: float64\n",
      "0   -118.2610\n",
      "1   -118.5583\n",
      "2   -118.2623\n",
      "3   -118.3943\n",
      "4   -118.4166\n",
      "Name: lon, dtype: float64\n"
     ]
    }
   ],
   "source": [
    "#what do we got\n",
    "print (crime.lat.head()) \n",
    "print (crime.lon.head())"
   ]
  },
  {
   "cell_type": "markdown",
   "metadata": {},
   "source": [
    "## Distance output"
   ]
  },
  {
   "cell_type": "code",
   "execution_count": 10,
   "metadata": {},
   "outputs": [
    {
     "data": {
      "text/plain": [
       "25.96"
      ]
     },
     "execution_count": 10,
     "metadata": {},
     "output_type": "execute_result"
    }
   ],
   "source": [
    "distance(crime.lat[0], crime.lon[0], crime.lat[1], crime.lon[1])"
   ]
  },
  {
   "cell_type": "markdown",
   "metadata": {},
   "source": [
    "## Now let's try to see how long to check distances of a waypoint for all ~200k rows."
   ]
  },
  {
   "cell_type": "code",
   "execution_count": 11,
   "metadata": {},
   "outputs": [
    {
     "data": {
      "text/plain": [
       "(225350, 28)"
      ]
     },
     "execution_count": 11,
     "metadata": {},
     "output_type": "execute_result"
    }
   ],
   "source": [
    "#how many rows again?\n",
    "crime.shape"
   ]
  },
  {
   "cell_type": "code",
   "execution_count": 12,
   "metadata": {},
   "outputs": [],
   "source": [
    "crime['waylat'] = crime.lat[0]\n",
    "crime['waylon'] = crime.lon[0]"
   ]
  },
  {
   "cell_type": "code",
   "execution_count": 13,
   "metadata": {},
   "outputs": [
    {
     "data": {
      "text/plain": [
       "0    33.9602\n",
       "1    33.9602\n",
       "2    33.9602\n",
       "3    33.9602\n",
       "4    33.9602\n",
       "Name: waylat, dtype: float64"
      ]
     },
     "execution_count": 13,
     "metadata": {},
     "output_type": "execute_result"
    }
   ],
   "source": [
    "crime.waylat.head()"
   ]
  },
  {
   "cell_type": "code",
   "execution_count": 14,
   "metadata": {},
   "outputs": [],
   "source": [
    "crime['dist'] = crime.apply(lambda row: distance(row['waylat'], row['waylon'], \n",
    "                                                 row['lat'], row['lon']), axis=1)"
   ]
  },
  {
   "cell_type": "code",
   "execution_count": 15,
   "metadata": {},
   "outputs": [
    {
     "data": {
      "text/plain": [
       "0     0.00\n",
       "1    25.96\n",
       "2     4.42\n",
       "3    17.86\n",
       "4    18.42\n",
       "Name: dist, dtype: float64"
      ]
     },
     "execution_count": 15,
     "metadata": {},
     "output_type": "execute_result"
    }
   ],
   "source": [
    "#what do we got\n",
    "crime.dist.head()"
   ]
  },
  {
   "cell_type": "markdown",
   "metadata": {},
   "source": [
    "## Timing calculation\n",
    "That took a long time!  Below is to find out just how long and if we can handle it with a smaller dataset such as the RE inventory"
   ]
  },
  {
   "cell_type": "code",
   "execution_count": 27,
   "metadata": {},
   "outputs": [
    {
     "name": "stdout",
     "output_type": "stream",
     "text": [
      "14.6 s ± 771 ms per loop (mean ± std. dev. of 7 runs, 1 loop each)\n"
     ]
    }
   ],
   "source": [
    "%timeit crime.apply(lambda row: distance(row['waylat'], row['waylon'], row['lat'], row['lon']), axis=1)"
   ]
  },
  {
   "cell_type": "code",
   "execution_count": 17,
   "metadata": {},
   "outputs": [
    {
     "name": "stdout",
     "output_type": "stream",
     "text": [
      "6e-05 sec / row (linear assertion)\n",
      "16k row calculation of a single waypoit: 0.9 seconds wait per waypoint\n"
     ]
    }
   ],
   "source": [
    "print (round(12.7/225350, 5), 'sec / row (linear assertion)')\n",
    "print ('16k row calculation of a single waypoit:', round(16000*12.7/225350,2), \n",
    "       'seconds wait per waypoint')"
   ]
  },
  {
   "cell_type": "markdown",
   "metadata": {},
   "source": [
    "## Conclusion\n",
    "\n",
    "Calculating waypoints for an individual is possible with a processing time of approx 1 sec per waypoint.  I think this is acceptable if the input is in the profile, but perhaps an annoyance if the input is as a filter.  There is a natural delay from submit to exploration which we can hide this within.  It's also on the long end of acceptable (annoying) if we put this feature out front."
   ]
  },
  {
   "cell_type": "markdown",
   "metadata": {},
   "source": [
    "## Crimescore as a linear normalization"
   ]
  },
  {
   "cell_type": "code",
   "execution_count": 20,
   "metadata": {},
   "outputs": [],
   "source": [
    "crime['crimescore'] = crime['dist'].map(lambda x: 1 if x<5 else 0)"
   ]
  },
  {
   "cell_type": "code",
   "execution_count": 21,
   "metadata": {},
   "outputs": [
    {
     "data": {
      "text/plain": [
       "0    1\n",
       "1    0\n",
       "2    1\n",
       "3    0\n",
       "4    0\n",
       "Name: crimescore, dtype: int64"
      ]
     },
     "execution_count": 21,
     "metadata": {},
     "output_type": "execute_result"
    }
   ],
   "source": [
    "crime.crimescore.head()"
   ]
  },
  {
   "cell_type": "code",
   "execution_count": 24,
   "metadata": {},
   "outputs": [
    {
     "name": "stdout",
     "output_type": "stream",
     "text": [
      "0    182734\n",
      "1     42616\n",
      "Name: crimescore, dtype: int64\n"
     ]
    }
   ],
   "source": [
    "#what do we got\n",
    "print(crime.crimescore.value_counts())"
   ]
  },
  {
   "cell_type": "code",
   "execution_count": 25,
   "metadata": {},
   "outputs": [
    {
     "data": {
      "text/plain": [
       "0.18911027290880852"
      ]
     },
     "execution_count": 25,
     "metadata": {},
     "output_type": "execute_result"
    }
   ],
   "source": [
    "crime.crimescore.sum()/len(crime.crimescore)"
   ]
  },
  {
   "cell_type": "code",
   "execution_count": 33,
   "metadata": {},
   "outputs": [
    {
     "data": {
      "text/plain": [
       "0.02"
      ]
     },
     "execution_count": 33,
     "metadata": {},
     "output_type": "execute_result"
    }
   ],
   "source": [
    "#1 mile radius in lat lon \n",
    "round(1/55.2428,2)"
   ]
  },
  {
   "cell_type": "markdown",
   "metadata": {},
   "source": [
    "## Brute force it - just filtering\n",
    "+/-0.02 degrees rather than a calculation to get a ~2 mile box around a property to reduce processing time"
   ]
  },
  {
   "cell_type": "code",
   "execution_count": 40,
   "metadata": {},
   "outputs": [
    {
     "name": "stdout",
     "output_type": "stream",
     "text": [
      "original len 225350\n",
      "new len 7311\n"
     ]
    },
    {
     "name": "stderr",
     "output_type": "stream",
     "text": [
      "/Users/dan/anaconda/lib/python3.5/site-packages/ipykernel/__main__.py:2: UserWarning: Boolean Series key will be reindexed to match DataFrame index.\n",
      "  from ipykernel import kernelapp as app\n"
     ]
    }
   ],
   "source": [
    "new_crime = crime[abs(crime['waylat']-crime['lat']) < 0.02]\n",
    "new_crime = new_crime[abs(crime['waylon']-crime['lon']) < 0.02]\n",
    "\n",
    "print('original len', len(crime))\n",
    "print('new len', len(new_crime))"
   ]
  },
  {
   "cell_type": "code",
   "execution_count": 41,
   "metadata": {},
   "outputs": [
    {
     "name": "stdout",
     "output_type": "stream",
     "text": [
      "9.14 ms ± 318 µs per loop (mean ± std. dev. of 7 runs, 100 loops each)\n"
     ]
    },
    {
     "name": "stderr",
     "output_type": "stream",
     "text": [
      "/Users/dan/anaconda/lib/python3.5/site-packages/ipykernel/__main__.py:257: UserWarning: Boolean Series key will be reindexed to match DataFrame index.\n"
     ]
    },
    {
     "name": "stdout",
     "output_type": "stream",
     "text": [
      "4.78 ms ± 195 µs per loop (mean ± std. dev. of 7 runs, 100 loops each)\n"
     ]
    }
   ],
   "source": [
    "%timeit crime[abs(crime['waylat']-crime['lat']) < 0.02]\n",
    "%timeit new_crime[abs(crime['waylon']-crime['lon']) < 0.02]"
   ]
  },
  {
   "cell_type": "markdown",
   "metadata": {},
   "source": [
    "## Difference of approaches\n",
    "radius is more accurate, but takes ~14.5 sec per property vs. ~15ms per properties.  In this case, it makes more sense to give up some accuracy to improve processing time.\n",
    "\n",
    "16k rows with an average of 15ms per row = 240 seconds This solution is problematic and needs to speed up."
   ]
  },
  {
   "cell_type": "code",
   "execution_count": null,
   "metadata": {},
   "outputs": [],
   "source": []
  }
 ],
 "metadata": {
  "kernelspec": {
   "display_name": "Python [conda root]",
   "language": "python",
   "name": "conda-root-py"
  },
  "language_info": {
   "codemirror_mode": {
    "name": "ipython",
    "version": 3
   },
   "file_extension": ".py",
   "mimetype": "text/x-python",
   "name": "python",
   "nbconvert_exporter": "python",
   "pygments_lexer": "ipython3",
   "version": "3.5.4"
  }
 },
 "nbformat": 4,
 "nbformat_minor": 2
}
